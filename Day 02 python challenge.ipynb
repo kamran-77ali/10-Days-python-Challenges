{
 "cells": [
  {
   "cell_type": "markdown",
   "id": "95832e72-7c2f-4752-a3d4-5253fc68e02e",
   "metadata": {},
   "source": [
    "pytho tutorial"
   ]
  },
  {
   "cell_type": "markdown",
   "id": "695a8912-159e-48b1-a9be-c836b9263509",
   "metadata": {},
   "source": [
    "Tupplels in python\n"
   ]
  },
  {
   "cell_type": "code",
   "execution_count": 1,
   "id": "ee3c025b-839d-490e-94d0-82deb69e32dc",
   "metadata": {},
   "outputs": [],
   "source": [
    "## Tupple are immutable list and cannot be changed in any way once it is ceated.\n",
    "#  Tupple are defined in the same as way as list\n",
    "#  tupple are orderd indexed collection of data.\n",
    "#   similar to string indecies the first value of in the tupple will have the index [0] the seconed value is [1].\n",
    "#    negative indices are counted from thee end of the tupple just like list.\n",
    "#  tupple also has the structuere  where commas seperate value .\n",
    "#   tupple can store duplicate value.\n",
    "#   tupple allow you store sevreal data items includig string integer float in one variable.\n"
   ]
  },
  {
   "cell_type": "code",
   "execution_count": 4,
   "id": "de0d62f5-fc63-43c7-8c9d-65863ac2a6a7",
   "metadata": {},
   "outputs": [
    {
     "data": {
      "text/plain": [
       "('hello python',\n",
       " 1,\n",
       " 1,\n",
       " 3,\n",
       " 4,\n",
       " 4,\n",
       " 5,\n",
       " 2,\n",
       " True,\n",
       " False,\n",
       " 32,\n",
       " [1, 2, 3],\n",
       " {3, 8, 'B', 'a'},\n",
       " (0, 1))"
      ]
     },
     "execution_count": 4,
     "metadata": {},
     "output_type": "execute_result"
    }
   ],
   "source": [
    "tuple_1 =(\"hello python\",1,1,3,4,4,5,2,True,False,32,[1,2,3],{\"a\",3,\"B\",8},(0,1))\n",
    "tuple_1"
   ]
  },
  {
   "cell_type": "code",
   "execution_count": 5,
   "id": "da40189e-0c96-4d75-8cff-677207f05a0d",
   "metadata": {},
   "outputs": [
    {
     "data": {
      "text/plain": [
       "tuple"
      ]
     },
     "execution_count": 5,
     "metadata": {},
     "output_type": "execute_result"
    }
   ],
   "source": [
    "type(tuple_1)"
   ]
  },
  {
   "cell_type": "code",
   "execution_count": 6,
   "id": "d32c2c9d-4aa8-4232-a006-43e9f84c7e79",
   "metadata": {},
   "outputs": [
    {
     "data": {
      "text/plain": [
       "14"
      ]
     },
     "execution_count": 6,
     "metadata": {},
     "output_type": "execute_result"
    }
   ],
   "source": [
    "len(tuple_1)"
   ]
  },
  {
   "cell_type": "markdown",
   "id": "ddee0390-e850-4317-af85-5ba24b0510b0",
   "metadata": {},
   "source": [
    "indexes"
   ]
  },
  {
   "cell_type": "code",
   "execution_count": 13,
   "id": "af3d39d3-03a7-4bd0-9d9f-7b98d9b48a15",
   "metadata": {},
   "outputs": [
    {
     "name": "stdout",
     "output_type": "stream",
     "text": [
      "hello python\n",
      "1\n",
      "1\n",
      "(0, 1)\n",
      "{8, 3, 'a', 'B'}\n",
      "[1, 2, 3]\n"
     ]
    }
   ],
   "source": [
    "tuple_1 =(\"hello python\",1,1,3,4,4,5,2,True,False,32,[1,2,3],{\"a\",3,\"B\",8},(0,1))\n",
    "print(tuple_1[0])\n",
    "print(tuple_1[1])\n",
    "print(tuple_1[2])\n",
    "print(tuple_1[-1])\n",
    "print(tuple_1[-2])\n",
    "print(tuple_1[-3])"
   ]
  },
  {
   "cell_type": "code",
   "execution_count": 1,
   "id": "fdad13e9-740d-4bcd-91a6-0b5f68fba6da",
   "metadata": {},
   "outputs": [
    {
     "name": "stdout",
     "output_type": "stream",
     "text": [
      "<class 'str'>\n",
      "<class 'int'>\n",
      "<class 'int'>\n",
      "<class 'tuple'>\n",
      "<class 'set'>\n",
      "<class 'list'>\n"
     ]
    }
   ],
   "source": [
    "tuple_1 =(\"hello python\",1,1,3,4,4,5,2,True,False,32,[1,2,3],{\"a\",3,\"B\",8},(0,1))\n",
    "print(type(tuple_1[0]))\n",
    "print(type(tuple_1[1]))\n",
    "print(type(tuple_1[2]))\n",
    "print(type(tuple_1[-1]))\n",
    "print(type(tuple_1[-2]))\n",
    "print(type(tuple_1[-3]))"
   ]
  },
  {
   "cell_type": "markdown",
   "id": "0c9d0d2e-0ae4-4b5f-b34f-2d819feb0a07",
   "metadata": {},
   "source": [
    "concatenation of tupple"
   ]
  },
  {
   "cell_type": "markdown",
   "id": "7392d956-b543-4bd8-9124-3629ecd67567",
   "metadata": {},
   "source": [
    "tuple_2 = tuple_1+ (\"hello python\",1,2,3)\n",
    "tuple_2"
   ]
  },
  {
   "cell_type": "markdown",
   "id": "c031c5d3-da5a-403e-b23a-419a7dee69aa",
   "metadata": {},
   "source": [
    "repitation of tupple"
   ]
  },
  {
   "cell_type": "code",
   "execution_count": 3,
   "id": "0f3e6b73-2676-470a-95bd-826184bc861e",
   "metadata": {},
   "outputs": [
    {
     "data": {
      "text/plain": [
       "(1, 2, 3, 1, 2, 3)"
      ]
     },
     "execution_count": 3,
     "metadata": {},
     "output_type": "execute_result"
    }
   ],
   "source": [
    "rep_tup = (1,2,3)\n",
    "rep_tup*2"
   ]
  },
  {
   "cell_type": "markdown",
   "id": "09c6756b-f731-45f1-ae4d-c3195d76e48d",
   "metadata": {},
   "source": [
    "membership"
   ]
  },
  {
   "cell_type": "code",
   "execution_count": 6,
   "id": "d8029393-e376-48df-b9ab-08cf52296b4b",
   "metadata": {},
   "outputs": [
    {
     "name": "stdout",
     "output_type": "stream",
     "text": [
      "True\n",
      "False\n",
      "False\n",
      "True\n"
     ]
    }
   ],
   "source": [
    "rep_tup=(1,2,3,4)\n",
    "print(2 in rep_tup)\n",
    "print( 2 not in rep_tup)\n",
    "print(5 in rep_tup)\n",
    "print(5 not in rep_tup)"
   ]
  },
  {
   "cell_type": "markdown",
   "id": "70121bd5-9603-4fb7-b534-9149c2133851",
   "metadata": {},
   "source": [
    "iteration"
   ]
  },
  {
   "cell_type": "code",
   "execution_count": 7,
   "id": "201a7683-7881-42d0-a4e3-9ef6f528ddec",
   "metadata": {},
   "outputs": [
    {
     "name": "stdout",
     "output_type": "stream",
     "text": [
      "1\n",
      "2\n",
      "3\n"
     ]
    }
   ],
   "source": [
    "rep_tup = (1,2,3)\n",
    "for i in rep_tup:\n",
    "    print(i)"
   ]
  },
  {
   "cell_type": "markdown",
   "id": "629d1d9f-48ce-41a5-8d26-1f45a87dea8e",
   "metadata": {},
   "source": [
    "cmp() function"
   ]
  },
  {
   "cell_type": "code",
   "execution_count": 11,
   "id": "94021c5c-eae8-4482-b5e7-847295da6c3d",
   "metadata": {},
   "outputs": [
    {
     "name": "stdout",
     "output_type": "stream",
     "text": [
      "-1\n",
      "1\n",
      "0\n"
     ]
    }
   ],
   "source": [
    "# it is to compare two tupple and return TRue or False\n",
    "def cmp(t1,t2):\n",
    "    return bool(t1>t2)-bool(t1<t2)\n",
    "def cmp(t3,t4):\n",
    "    return bool(t3>t4)-bool(t3<t4)\n",
    "def cmp(t5,t6):\n",
    "    return(t5>t6)-bool(t5<t6)\n",
    "t1= (1,2,3)\n",
    "t2= (2,4,6)\n",
    "\n",
    "t3 = (5,)\n",
    "t4 = (4,)\n",
    "\n",
    "t5 = 3.14\n",
    "t6 = 3.14\n",
    "\n",
    "print(cmp(t1,t2))\n",
    "print(cmp(t3,t4))\n",
    "print(cmp(t5,t6))\n"
   ]
  },
  {
   "cell_type": "markdown",
   "id": "4b5b0851-168c-4e00-b46e-03ec5c3428b6",
   "metadata": {},
   "source": [
    "min() function"
   ]
  },
  {
   "cell_type": "code",
   "execution_count": 12,
   "id": "a7a11478-9a24-41c4-b7a0-5f4b580681d2",
   "metadata": {},
   "outputs": [
    {
     "data": {
      "text/plain": [
       "1"
      ]
     },
     "execution_count": 12,
     "metadata": {},
     "output_type": "execute_result"
    }
   ],
   "source": [
    "rep_tup = (1,2,3)\n",
    "min(rep_tup)"
   ]
  },
  {
   "cell_type": "markdown",
   "id": "fffeb53c-fb26-44fa-b649-ccf0c832cc59",
   "metadata": {},
   "source": [
    "max() function"
   ]
  },
  {
   "cell_type": "code",
   "execution_count": 14,
   "id": "8fd35536-92b9-4c94-84cb-523b3ed1b770",
   "metadata": {},
   "outputs": [
    {
     "data": {
      "text/plain": [
       "3"
      ]
     },
     "execution_count": 14,
     "metadata": {},
     "output_type": "execute_result"
    }
   ],
   "source": [
    "max(rep_tup)"
   ]
  },
  {
   "cell_type": "markdown",
   "id": "a16c8d2a-60c5-4ae6-982b-6d947649e3c1",
   "metadata": {},
   "source": [
    "tup(seq) function\n"
   ]
  },
  {
   "cell_type": "code",
   "execution_count": 16,
   "id": "4375fe95-96c9-440b-a849-5513951fc512",
   "metadata": {},
   "outputs": [
    {
     "data": {
      "text/plain": [
       "('P', 'a', 'k', 'i', 's', 't', 'a', 'n')"
      ]
     },
     "execution_count": 16,
     "metadata": {},
     "output_type": "execute_result"
    }
   ],
   "source": [
    "# it convert a specific sequance to a tuple\n",
    "seq = \"Pakistan\"\n",
    "tuple(seq)"
   ]
  },
  {
   "cell_type": "markdown",
   "id": "f490cc1e-3ce8-4b5f-b00a-649ffe7221c9",
   "metadata": {},
   "source": [
    "slicing()"
   ]
  },
  {
   "cell_type": "code",
   "execution_count": 18,
   "id": "a9a18191-5ac5-41b7-bf36-2d1e4c0748ab",
   "metadata": {},
   "outputs": [
    {
     "data": {
      "text/plain": [
       "(1, 3, 4, 4, 5, 2, True)"
      ]
     },
     "execution_count": 18,
     "metadata": {},
     "output_type": "execute_result"
    }
   ],
   "source": [
    "# to obtain a new tuple from the crunt tuple the slicing methode is used.\n",
    "tuple_1 =(\"hello python\",1,1,3,4,4,5,2,True,False,32,[1,2,3],{\"a\",3,\"B\",8},(0,1))\n",
    "tuple_1[2:9]"
   ]
  },
  {
   "cell_type": "code",
   "execution_count": 19,
   "id": "c2cbf673-d3a5-4002-8e15-1bf3bdffaf5c",
   "metadata": {},
   "outputs": [
    {
     "data": {
      "text/plain": [
       "(32, [1, 2, 3], {3, 8, 'B', 'a'})"
      ]
     },
     "execution_count": 19,
     "metadata": {},
     "output_type": "execute_result"
    }
   ],
   "source": [
    "tuple_1 =(\"hello python\",1,1,3,4,4,5,2,True,False,32,[1,2,3],{\"a\",3,\"B\",8},(0,1))\n",
    "tuple_1[-4:-1]"
   ]
  },
  {
   "cell_type": "code",
   "execution_count": 20,
   "id": "05af507d-1ab9-4f20-863d-efad39f98afe",
   "metadata": {},
   "outputs": [
    {
     "data": {
      "text/plain": [
       "14"
      ]
     },
     "execution_count": 20,
     "metadata": {},
     "output_type": "execute_result"
    }
   ],
   "source": [
    "len(tuple_1)"
   ]
  },
  {
   "cell_type": "code",
   "execution_count": 22,
   "id": "a206da20-ee1f-476d-8529-1c810a0257a7",
   "metadata": {},
   "outputs": [
    {
     "data": {
      "text/plain": [
       "[1, 3, 5, 34, 34, 78, 90]"
      ]
     },
     "execution_count": 22,
     "metadata": {},
     "output_type": "execute_result"
    }
   ],
   "source": [
    "tuple_3 = (3,34,78,90,1,34,5)\n",
    "sorted(tuple_3)"
   ]
  },
  {
   "cell_type": "code",
   "execution_count": 1,
   "id": "e576181e-8f15-428f-a6ad-a4020a45bbc5",
   "metadata": {},
   "outputs": [
    {
     "data": {
      "text/plain": [
       "('biotechnology',\n",
       " (0, 5),\n",
       " ('farmentation', 'ethanol'),\n",
       " (3.14, 'pi', (1.618, 'golden ratio')))"
      ]
     },
     "execution_count": 1,
     "metadata": {},
     "output_type": "execute_result"
    }
   ],
   "source": [
    "nested_tuple= (\"biotechnology\",(0,5),(\"farmentation\",\"ethanol\"),(3.14,\"pi\",(1.618,\"golden ratio\")))\n",
    "nested_tuple"
   ]
  },
  {
   "cell_type": "code",
   "execution_count": 3,
   "id": "7dca29dc-1fba-4f08-afb2-5b6d45215c6d",
   "metadata": {},
   "outputs": [
    {
     "name": "stdout",
     "output_type": "stream",
     "text": [
      "item 0 of nested tuple: biotechnology\n",
      "item 0 of nested tuple: (0, 5)\n",
      "item 0 of nested tuple: ('farmentation', 'ethanol')\n",
      "item 0 of nested tuple: (3.14, 'pi', (1.618, 'golden ratio'))\n"
     ]
    }
   ],
   "source": [
    "print(\"item 0 of nested tuple:\" ,nested_tuple[0])\n",
    "print(\"item 0 of nested tuple:\" ,nested_tuple[1])\n",
    "print(\"item 0 of nested tuple:\" ,nested_tuple[2])\n",
    "print(\"item 0 of nested tuple:\" ,nested_tuple[3])"
   ]
  },
  {
   "cell_type": "code",
   "execution_count": 6,
   "id": "be3063bb-5aa7-4c9f-a714-7a9ed77f160b",
   "metadata": {},
   "outputs": [
    {
     "name": "stdout",
     "output_type": "stream",
     "text": [
      "item 0 of nested tuple: 0\n",
      "item 0 of nested tuple: 5\n",
      "item 0 of nested tuple: farmentation\n",
      "item 0 of nested tuple: ethanol\n",
      "item 0 of nested tuple: 3.14\n",
      "item 0 of nested tuple: pi\n",
      "item 0 of nested tuple: (1.618, 'golden ratio')\n",
      "item 0 of nested tuple: 1.618\n",
      "item 0 of nested tuple: golden ratio\n"
     ]
    }
   ],
   "source": [
    "print(\"item 0 of nested tuple:\",nested_tuple[1][0])\n",
    "print(\"item 0 of nested tuple:\",nested_tuple[1][1])\n",
    "print(\"item 0 of nested tuple:\",nested_tuple[2][0])\n",
    "print(\"item 0 of nested tuple:\",nested_tuple[2][1])\n",
    "print(\"item 0 of nested tuple:\",nested_tuple[3][0])\n",
    "print(\"item 0 of nested tuple:\",nested_tuple[3][1])\n",
    "print(\"item 0 of nested tuple:\",nested_tuple[3][2])\n",
    "\n",
    "\n",
    "print(\"item 0 of nested tuple:\",nested_tuple[3][2][0])\n",
    "print(\"item 0 of nested tuple:\",nested_tuple[3][2][1])"
   ]
  },
  {
   "cell_type": "markdown",
   "id": "21db53c7-4ebb-4d3b-aacd-a3dcd97e765b",
   "metadata": {},
   "source": [
    "tupple are immuted"
   ]
  },
  {
   "cell_type": "code",
   "execution_count": 7,
   "id": "82df5f2c-64a2-4f9f-84a4-c36783e54735",
   "metadata": {},
   "outputs": [
    {
     "ename": "TypeError",
     "evalue": "'tuple' object does not support item assignment",
     "output_type": "error",
     "traceback": [
      "\u001b[1;31m---------------------------------------------------------------------------\u001b[0m",
      "\u001b[1;31mTypeError\u001b[0m                                 Traceback (most recent call last)",
      "Cell \u001b[1;32mIn[7], line 2\u001b[0m\n\u001b[0;32m      1\u001b[0m tuple_4 \u001b[38;5;241m=\u001b[39m (\u001b[38;5;241m1\u001b[39m,\u001b[38;5;241m2\u001b[39m,\u001b[38;5;241m4\u001b[39m,\u001b[38;5;241m6\u001b[39m)\n\u001b[1;32m----> 2\u001b[0m tuple_4[\u001b[38;5;241m0\u001b[39m] \u001b[38;5;241m=\u001b[39m \u001b[38;5;241m9\u001b[39m\n\u001b[0;32m      3\u001b[0m \u001b[38;5;28mprint\u001b[39m(tuple_4)\n",
      "\u001b[1;31mTypeError\u001b[0m: 'tuple' object does not support item assignment"
     ]
    }
   ],
   "source": [
    "tuple_4 = (1,2,4,6)\n",
    "tuple_4[0] = 9\n",
    "print(tuple_4)"
   ]
  },
  {
   "cell_type": "code",
   "execution_count": 9,
   "id": "d386b25d-6b3b-4cb6-b5f5-913b93955fb4",
   "metadata": {},
   "outputs": [
    {
     "name": "stdout",
     "output_type": "stream",
     "text": [
      "before deleting tuple (1, 2, 3, 4, 5)\n"
     ]
    }
   ],
   "source": [
    "tuple_4 = (1,2,3,4,5)\n",
    "print(\"before deleting tuple\",tuple_4)\n",
    "del tuple_4\n"
   ]
  },
  {
   "cell_type": "markdown",
   "id": "5f9916dd-bdfb-4699-b84f-9aab243fd14d",
   "metadata": {},
   "source": [
    "# count method()"
   ]
  },
  {
   "cell_type": "code",
   "execution_count": 12,
   "id": "52528de9-b5e1-4212-93af-2e811d0c129a",
   "metadata": {},
   "outputs": [
    {
     "data": {
      "text/plain": [
       "3"
      ]
     },
     "execution_count": 12,
     "metadata": {},
     "output_type": "execute_result"
    }
   ],
   "source": [
    "# This methode returns the number of item an otem an occurs in a tuple.\n",
    "tuple5=(1,1,2,3,4,4,4,5,5,6,7)\n",
    "tuple5.count(4)"
   ]
  },
  {
   "cell_type": "markdown",
   "id": "77705c98-8549-4244-afca-450d58e04e19",
   "metadata": {},
   "source": [
    "index method()"
   ]
  },
  {
   "cell_type": "code",
   "execution_count": 15,
   "id": "36f725af-747c-41a3-acc0-5660cdb0ec20",
   "metadata": {},
   "outputs": [
    {
     "name": "stdout",
     "output_type": "stream",
     "text": [
      "4\n",
      "2\n",
      "1\n"
     ]
    }
   ],
   "source": [
    "# it return index of the first occurence of the specified value in a tuple.\n",
    "tuple6 = (1,2,3,4,5,6,6,77,7,7)\n",
    "print(tuple6.index(5))\n",
    "print(tuple6.index(3))\n",
    "print(tuple6.index(2))"
   ]
  },
  {
   "cell_type": "markdown",
   "id": "d128ea85-7ea6-48b3-b9d4-57ae46fa18cc",
   "metadata": {},
   "source": [
    "### one element tuple()"
   ]
  },
  {
   "cell_type": "markdown",
   "id": "79343291-e792-4da5-bfa4-bb7bf64ce71c",
   "metadata": {},
   "source": [
    "# if a tuple include only one element you shuold put a comma after the element other wise it si not condsiderd as tuple.\n",
    "tup5=(0)\n",
    "tup5\n",
    "type(tup5)"
   ]
  },
  {
   "cell_type": "code",
   "execution_count": 19,
   "id": "0cde6faa-8258-4f36-88dd-e4c157b76bd9",
   "metadata": {},
   "outputs": [
    {
     "data": {
      "text/plain": [
       "tuple"
      ]
     },
     "execution_count": 19,
     "metadata": {},
     "output_type": "execute_result"
    }
   ],
   "source": [
    "tup5=(0,)\n",
    "tup5\n",
    "type(tup5)"
   ]
  },
  {
   "cell_type": "markdown",
   "id": "f8bf427d-3eef-4e98-a0b8-42ba534a0653",
   "metadata": {},
   "source": [
    "## python tutorial sets in python"
   ]
  },
  {
   "cell_type": "code",
   "execution_count": 20,
   "id": "09c3fea3-c1e8-448a-96a4-65bbc457adbc",
   "metadata": {},
   "outputs": [
    {
     "data": {
      "text/plain": [
       "dict"
      ]
     },
     "execution_count": 20,
     "metadata": {},
     "output_type": "execute_result"
    }
   ],
   "source": [
    "x={}\n",
    "type(x)"
   ]
  },
  {
   "cell_type": "code",
   "execution_count": 21,
   "id": "db1c8391-3d6c-453e-8835-b14b4b2ea412",
   "metadata": {},
   "outputs": [
    {
     "data": {
      "text/plain": [
       "set"
      ]
     },
     "execution_count": 21,
     "metadata": {},
     "output_type": "execute_result"
    }
   ],
   "source": [
    "y= set()\n",
    "type(y)"
   ]
  },
  {
   "cell_type": "code",
   "execution_count": 22,
   "id": "0c8e4ddf-1c97-4b80-b064-b02051b98429",
   "metadata": {},
   "outputs": [
    {
     "data": {
      "text/plain": [
       "{1.618, 2022, 3.14, False, True, 'hello python ', 'hello world'}"
      ]
     },
     "execution_count": 22,
     "metadata": {},
     "output_type": "execute_result"
    }
   ],
   "source": [
    "set1= {\"hello python \",3.14,1.618,\"hello world\",3.14,1.618,True,False,2022}\n",
    "set1"
   ]
  },
  {
   "cell_type": "markdown",
   "id": "9068f2de-3735-4e69-bc67-c965c998420b",
   "metadata": {},
   "source": [
    "Converting list to set"
   ]
  },
  {
   "cell_type": "code",
   "execution_count": 23,
   "id": "c6cfe746-f513-42d2-8bfc-e0ff0d765258",
   "metadata": {},
   "outputs": [
    {
     "data": {
      "text/plain": [
       "{1.618, 2022, 3.14, False, True, 'hello python ', 'hello world'}"
      ]
     },
     "execution_count": 23,
     "metadata": {},
     "output_type": "execute_result"
    }
   ],
   "source": [
    "nils =  {\"hello python \",3.14,1.618,\"hello world\",3.14,1.618,True,False,2022}\n",
    "set2= set(nils)\n",
    "set2"
   ]
  },
  {
   "cell_type": "markdown",
   "id": "11512503-3bd2-47b8-a9f0-8bc314f177b8",
   "metadata": {},
   "source": [
    "set operation"
   ]
  },
  {
   "cell_type": "code",
   "execution_count": 25,
   "id": "6b5848d4-031c-416b-81b0-054d0855c84c",
   "metadata": {},
   "outputs": [
    {
     "data": {
      "text/plain": [
       "{1.618, 2022, 3.14, False, True, 'hello python ', 'hello world'}"
      ]
     },
     "execution_count": 25,
     "metadata": {},
     "output_type": "execute_result"
    }
   ],
   "source": [
    "set3 =  set([\"hello python \",3.14,1.618,\"hello world\",3.14,1.618,True,False,2022])\n",
    "set3"
   ]
  },
  {
   "cell_type": "markdown",
   "id": "e3327d19-8286-461a-b73b-c42dda9dc108",
   "metadata": {},
   "source": [
    "add() function"
   ]
  },
  {
   "cell_type": "code",
   "execution_count": 26,
   "id": "3a632de7-fe10-4710-8e89-83cefbce7aa8",
   "metadata": {},
   "outputs": [
    {
     "data": {
      "text/plain": [
       "{1.618,\n",
       " 2022,\n",
       " 3.14,\n",
       " False,\n",
       " True,\n",
       " 'hello python',\n",
       " 'hello python ',\n",
       " 'hello world'}"
      ]
     },
     "execution_count": 26,
     "metadata": {},
     "output_type": "execute_result"
    }
   ],
   "source": [
    "set3 = {\"hello python \",3.14,1.618,\"hello world\",3.14,1.618,True,False,2022}\n",
    "set3.add(\"hello python\")\n",
    "set3"
   ]
  },
  {
   "cell_type": "markdown",
   "id": "977cc95a-7408-4c83-bcb1-151c693e9c5d",
   "metadata": {},
   "source": [
    "update() function"
   ]
  },
  {
   "cell_type": "code",
   "execution_count": 27,
   "id": "38faba11-99b0-47b5-9b71-d96686fc4a9c",
   "metadata": {},
   "outputs": [
    {
     "data": {
      "text/plain": [
       "{3, 4, 5, 6, 7, 8}"
      ]
     },
     "execution_count": 27,
     "metadata": {},
     "output_type": "execute_result"
    }
   ],
   "source": [
    "x_set = {6,7,8}\n",
    "x_set\n",
    "x_set.update({3,4,5})\n",
    "x_set"
   ]
  },
  {
   "cell_type": "markdown",
   "id": "abfaf2e5-8b37-458d-9e0a-bf80bc2618e7",
   "metadata": {},
   "source": [
    "remove() function"
   ]
  },
  {
   "cell_type": "code",
   "execution_count": 28,
   "id": "36f3596f-6d13-4065-ac35-afcd270a1f17",
   "metadata": {},
   "outputs": [
    {
     "data": {
      "text/plain": [
       "{1.618, 2022, 3.14, False, True, 'hello python ', 'hello world'}"
      ]
     },
     "execution_count": 28,
     "metadata": {},
     "output_type": "execute_result"
    }
   ],
   "source": [
    "set3.remove(\"hello python\")\n",
    "set3"
   ]
  },
  {
   "cell_type": "markdown",
   "id": "e4f619a2-0101-49d9-963e-f9a45dbd123e",
   "metadata": {},
   "source": [
    "discard() function"
   ]
  },
  {
   "cell_type": "code",
   "execution_count": 29,
   "id": "1d05f643-8afb-43fd-9192-c683eb01c44a",
   "metadata": {},
   "outputs": [
    {
     "data": {
      "text/plain": [
       "{1.618, 2022, False, True, 'hello python ', 'hello world'}"
      ]
     },
     "execution_count": 29,
     "metadata": {},
     "output_type": "execute_result"
    }
   ],
   "source": [
    "set3.discard(3.14)\n",
    "set3"
   ]
  },
  {
   "cell_type": "code",
   "execution_count": 30,
   "id": "a3110f30-9ef0-487e-b6ee-9e1706072fad",
   "metadata": {},
   "outputs": [
    {
     "data": {
      "text/plain": [
       "True"
      ]
     },
     "execution_count": 30,
     "metadata": {},
     "output_type": "execute_result"
    }
   ],
   "source": [
    "2022 in set3"
   ]
  },
  {
   "cell_type": "markdown",
   "id": "5579f0e9-58c9-4be3-9e05-a1f34c52a21f",
   "metadata": {},
   "source": [
    "logic operation in set"
   ]
  },
  {
   "cell_type": "code",
   "execution_count": 31,
   "id": "b81e35e9-5fc6-4850-96ba-7c3396dcd1fa",
   "metadata": {},
   "outputs": [
    {
     "data": {
      "text/plain": [
       "({1.618, 2022, 3.14, False, True, 'hello python ', 'hello world'},\n",
       " {False, True, 1.618, 3.14, 2022})"
      ]
     },
     "execution_count": 31,
     "metadata": {},
     "output_type": "execute_result"
    }
   ],
   "source": [
    "set4 =  set([\"hello python \",3.14,1.618,\"hello world\",3.14,1.618,True,False,2022])\n",
    "set5 =  set([3.14,1.618, True,False, 2022])\n",
    "set4,set5"
   ]
  },
  {
   "cell_type": "code",
   "execution_count": 32,
   "id": "713375a6-6d07-4e05-a668-06b1afc8d20f",
   "metadata": {},
   "outputs": [
    {
     "data": {
      "text/plain": [
       "{False, True, 1.618, 3.14, 2022}"
      ]
     },
     "execution_count": 32,
     "metadata": {},
     "output_type": "execute_result"
    }
   ],
   "source": [
    "intersection = set4&set5\n",
    "intersection"
   ]
  },
  {
   "cell_type": "code",
   "execution_count": 33,
   "id": "cd7e039c-702c-477d-ab55-79dfafb4578f",
   "metadata": {},
   "outputs": [
    {
     "data": {
      "text/plain": [
       "{False, True, 1.618, 3.14, 2022}"
      ]
     },
     "execution_count": 33,
     "metadata": {},
     "output_type": "execute_result"
    }
   ],
   "source": [
    "# use intersection function\n",
    "set4.intersection(set5)"
   ]
  },
  {
   "cell_type": "markdown",
   "id": "3a180839-ed1d-4773-8d70-105fc9e18d84",
   "metadata": {},
   "source": [
    "diffrence function"
   ]
  },
  {
   "cell_type": "code",
   "execution_count": 35,
   "id": "638bed58-4a2a-4bb1-8c34-4e284c3cd5cc",
   "metadata": {},
   "outputs": [
    {
     "data": {
      "text/plain": [
       "{'hello python ', 'hello world'}"
      ]
     },
     "execution_count": 35,
     "metadata": {},
     "output_type": "execute_result"
    }
   ],
   "source": [
    "set4-set5"
   ]
  },
  {
   "cell_type": "code",
   "execution_count": 36,
   "id": "b6ba78e0-da94-46c7-aec5-e1036a345b0c",
   "metadata": {},
   "outputs": [
    {
     "data": {
      "text/plain": [
       "set()"
      ]
     },
     "execution_count": 36,
     "metadata": {},
     "output_type": "execute_result"
    }
   ],
   "source": [
    "set5-set4"
   ]
  },
  {
   "cell_type": "code",
   "execution_count": 38,
   "id": "b748f667-4460-4d63-b55c-f4b814b77e46",
   "metadata": {},
   "outputs": [
    {
     "data": {
      "text/plain": [
       "{'hello python ', 'hello world'}"
      ]
     },
     "execution_count": 38,
     "metadata": {},
     "output_type": "execute_result"
    }
   ],
   "source": [
    "set4.difference(set5)"
   ]
  },
  {
   "cell_type": "code",
   "execution_count": 39,
   "id": "618b23e8-9936-4697-b87b-55adb362249e",
   "metadata": {},
   "outputs": [
    {
     "data": {
      "text/plain": [
       "set()"
      ]
     },
     "execution_count": 39,
     "metadata": {},
     "output_type": "execute_result"
    }
   ],
   "source": [
    "set5.difference(set4)"
   ]
  },
  {
   "cell_type": "markdown",
   "id": "7e65d9de-dbc5-44e2-9f5b-c8d07b3d392f",
   "metadata": {},
   "source": [
    "set comparison"
   ]
  },
  {
   "cell_type": "code",
   "execution_count": 40,
   "id": "aba03008-3e1c-4e83-b067-8ecbf3e4830c",
   "metadata": {},
   "outputs": [
    {
     "data": {
      "text/plain": [
       "True"
      ]
     },
     "execution_count": 40,
     "metadata": {},
     "output_type": "execute_result"
    }
   ],
   "source": [
    "set4>set5"
   ]
  },
  {
   "cell_type": "code",
   "execution_count": 41,
   "id": "0f9a6666-0428-4685-a650-eff14c1a5e5a",
   "metadata": {},
   "outputs": [
    {
     "data": {
      "text/plain": [
       "False"
      ]
     },
     "execution_count": 41,
     "metadata": {},
     "output_type": "execute_result"
    }
   ],
   "source": [
    "set5>set4"
   ]
  },
  {
   "cell_type": "code",
   "execution_count": 42,
   "id": "4e701b1e-7e91-4278-a545-1a6cae868575",
   "metadata": {},
   "outputs": [
    {
     "data": {
      "text/plain": [
       "False"
      ]
     },
     "execution_count": 42,
     "metadata": {},
     "output_type": "execute_result"
    }
   ],
   "source": [
    "set4==set5"
   ]
  },
  {
   "cell_type": "markdown",
   "id": "0e722189-994d-4f04-8166-7305dbaeafdc",
   "metadata": {},
   "source": [
    "union () function"
   ]
  },
  {
   "cell_type": "code",
   "execution_count": 43,
   "id": "06b9e585-1f0b-4404-9f19-51e1360baf97",
   "metadata": {},
   "outputs": [
    {
     "data": {
      "text/plain": [
       "{1.618, 2022, 3.14, False, True, 'hello python ', 'hello world'}"
      ]
     },
     "execution_count": 43,
     "metadata": {},
     "output_type": "execute_result"
    }
   ],
   "source": [
    "set4.union(set5)"
   ]
  },
  {
   "cell_type": "markdown",
   "id": "33422c5d-a606-4a57-9fe9-6f41c21c8f6f",
   "metadata": {},
   "source": [
    "issuperset(), issubset() function"
   ]
  },
  {
   "cell_type": "code",
   "execution_count": 44,
   "id": "fa866ae6-10bf-4359-9f2d-a5a3b1ca21fb",
   "metadata": {},
   "outputs": [
    {
     "data": {
      "text/plain": [
       "True"
      ]
     },
     "execution_count": 44,
     "metadata": {},
     "output_type": "execute_result"
    }
   ],
   "source": [
    "set(set4).issuperset(set5)"
   ]
  },
  {
   "cell_type": "code",
   "execution_count": 45,
   "id": "47f7f5c5-157b-44ce-83b0-27859104bfbb",
   "metadata": {},
   "outputs": [
    {
     "data": {
      "text/plain": [
       "False"
      ]
     },
     "execution_count": 45,
     "metadata": {},
     "output_type": "execute_result"
    }
   ],
   "source": [
    "set(set4).issubset(set5)"
   ]
  },
  {
   "cell_type": "code",
   "execution_count": 48,
   "id": "91c881b5-9cde-4b55-8788-92afe3833ea1",
   "metadata": {},
   "outputs": [
    {
     "name": "stdout",
     "output_type": "stream",
     "text": [
      "True\n",
      "True\n",
      "True\n",
      "False\n"
     ]
    }
   ],
   "source": [
    "print(set([3.14]).issubset(set5))\n",
    "print(set([3.14]).issubset(set4))\n",
    "print(set4.issuperset(set5))\n",
    "print(set5.issuperset(set4))"
   ]
  },
  {
   "cell_type": "markdown",
   "id": "62cd2e33-91d6-4895-bb03-0c423481b8a7",
   "metadata": {},
   "source": [
    "min() max() and sum function"
   ]
  },
  {
   "cell_type": "code",
   "execution_count": 49,
   "id": "59d34fdf-9140-4372-afcf-0da67372b69a",
   "metadata": {},
   "outputs": [
    {
     "name": "stdout",
     "output_type": "stream",
     "text": [
      "the number of min a 1\n",
      "the min number of b: 6\n",
      "the max number of a 5\n",
      "the max numver of b 10\n",
      "the sum of a  15\n",
      "the sum of b 40\n"
     ]
    }
   ],
   "source": [
    "a= [1,2,3,4,5]\n",
    "b= [6,7,8,9,10]\n",
    "print(\"the number of min a\",min(a))\n",
    "print(\"the min number of b:\",min(b))\n",
    "print(\"the max number of a\",max(a))\n",
    "print(\"the max numver of b\",max(b))\n",
    "print(\"the sum of a \",sum(a))\n",
    "print(\"the sum of b\",sum(b))"
   ]
  },
  {
   "cell_type": "markdown",
   "id": "88ef20a7-552f-4978-adfc-e1b9067bd3c8",
   "metadata": {},
   "source": [
    "# no mutable sequance in set\n",
    "set6 = {\"python\",1,2,3,[1,2,3]}\n",
    "set6"
   ]
  },
  {
   "cell_type": "code",
   "execution_count": 51,
   "id": "3a207151-5e8f-4be4-aab0-8ff8d9699e79",
   "metadata": {},
   "outputs": [
    {
     "ename": "TypeError",
     "evalue": "'set' object is not subscriptable",
     "output_type": "error",
     "traceback": [
      "\u001b[1;31m---------------------------------------------------------------------------\u001b[0m",
      "\u001b[1;31mTypeError\u001b[0m                                 Traceback (most recent call last)",
      "Cell \u001b[1;32mIn[51], line 2\u001b[0m\n\u001b[0;32m      1\u001b[0m set7 \u001b[38;5;241m=\u001b[39m {\u001b[38;5;241m1\u001b[39m,\u001b[38;5;241m2\u001b[39m,\u001b[38;5;241m3\u001b[39m,\u001b[38;5;241m4\u001b[39m}\n\u001b[1;32m----> 2\u001b[0m set7[\u001b[38;5;241m1\u001b[39m]\n",
      "\u001b[1;31mTypeError\u001b[0m: 'set' object is not subscriptable"
     ]
    }
   ],
   "source": [
    "set7 = {1,2,3,4}\n",
    "set7[1]"
   ]
  },
  {
   "cell_type": "markdown",
   "id": "e8c7855b-8322-4012-9ff1-e1ad8bbb3be9",
   "metadata": {},
   "source": [
    "copy the set"
   ]
  },
  {
   "cell_type": "code",
   "execution_count": 52,
   "id": "5d105e7a-1a38-42f9-a9ec-3c9df88516bc",
   "metadata": {},
   "outputs": [
    {
     "name": "stdout",
     "output_type": "stream",
     "text": [
      "{1, 3, 5, 7}\n",
      "{1, 3, 5, 7}\n",
      "{1, 3, 5, 7, 11}\n",
      "{1, 3, 5, 7, 11}\n"
     ]
    }
   ],
   "source": [
    "set8 = {1,3,5,7}\n",
    "print(set8)\n",
    "set9 = set8\n",
    "print(set9)\n",
    "set8.add(11)\n",
    "print(set8)\n",
    "print(set9)"
   ]
  },
  {
   "cell_type": "markdown",
   "id": "2dd54231-3a53-4d11-b04d-cf701f792b57",
   "metadata": {},
   "source": [
    "clear the function"
   ]
  },
  {
   "cell_type": "code",
   "execution_count": 53,
   "id": "05a661a8-b7fe-4703-97d9-0220d967bd46",
   "metadata": {},
   "outputs": [
    {
     "name": "stdout",
     "output_type": "stream",
     "text": [
      "{0, 1, 2, 3, 4, 5, 6, 7}\n"
     ]
    },
    {
     "data": {
      "text/plain": [
       "set()"
      ]
     },
     "execution_count": 53,
     "metadata": {},
     "output_type": "execute_result"
    }
   ],
   "source": [
    "x= {0,1,1,2,3,4,5,6,7}\n",
    "print(x)\n",
    "x.clear()\n",
    "x"
   ]
  },
  {
   "cell_type": "markdown",
   "id": "30778f83-e5fe-4aaa-870f-e1db4153ff01",
   "metadata": {},
   "source": [
    "pop() function"
   ]
  },
  {
   "cell_type": "code",
   "execution_count": 55,
   "id": "2df2aa04-bdec-4e21-9151-d17ceab95f02",
   "metadata": {},
   "outputs": [
    {
     "name": "stdout",
     "output_type": "stream",
     "text": [
      "{0, 1, 2, 3, 4, 5, 6}\n"
     ]
    },
    {
     "data": {
      "text/plain": [
       "{1, 2, 3, 4, 5, 6}"
      ]
     },
     "execution_count": 55,
     "metadata": {},
     "output_type": "execute_result"
    }
   ],
   "source": [
    "x= {0,1,1,2,2,3,4,5,6}\n",
    "print(x)\n",
    "x.pop()\n",
    "x"
   ]
  },
  {
   "cell_type": "code",
   "execution_count": null,
   "id": "4fce0b18-782f-48e8-a02c-c20c58a4b594",
   "metadata": {},
   "outputs": [],
   "source": []
  }
 ],
 "metadata": {
  "kernelspec": {
   "display_name": "Python 3 (ipykernel)",
   "language": "python",
   "name": "python3"
  },
  "language_info": {
   "codemirror_mode": {
    "name": "ipython",
    "version": 3
   },
   "file_extension": ".py",
   "mimetype": "text/x-python",
   "name": "python",
   "nbconvert_exporter": "python",
   "pygments_lexer": "ipython3",
   "version": "3.11.7"
  }
 },
 "nbformat": 4,
 "nbformat_minor": 5
}
