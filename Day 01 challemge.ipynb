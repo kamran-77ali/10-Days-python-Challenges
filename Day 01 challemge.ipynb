{
 "cells": [
  {
   "cell_type": "markdown",
   "id": "b787e0fb-32d6-40ad-9e99-7055c588a4e7",
   "metadata": {},
   "source": [
    "python tutorial"
   ]
  },
  {
   "cell_type": "markdown",
   "id": "cd666782-2870-40fa-989a-a3c187136241",
   "metadata": {},
   "source": [
    "   Topic: introduction to python."
   ]
  },
  {
   "cell_type": "code",
   "execution_count": 3,
   "id": "36af32cc-a1de-4025-b9e7-49c62170f4cb",
   "metadata": {},
   "outputs": [],
   "source": [
    "# Frist code : \n",
    "import handcalcs.render"
   ]
  },
  {
   "cell_type": "code",
   "execution_count": 4,
   "id": "2e0e6852-7a87-47a2-b53b-743f34fa8749",
   "metadata": {},
   "outputs": [
    {
     "name": "stdout",
     "output_type": "stream",
     "text": [
      "hello world! \n"
     ]
    }
   ],
   "source": [
    "# first python output with \"print \" function.\n",
    "print(\"hello world! \")"
   ]
  },
  {
   "cell_type": "markdown",
   "id": "268e65a4-59c3-4eba-b37a-347b004d72d0",
   "metadata": {},
   "source": [
    "version control "
   ]
  },
  {
   "cell_type": "code",
   "execution_count": 8,
   "id": "17aa2f34-6291-4fc8-b5df-6afc45ddc7f9",
   "metadata": {},
   "outputs": [
    {
     "name": "stdout",
     "output_type": "stream",
     "text": [
      "3.11.7 | packaged by Anaconda, Inc. | (main, Dec 15 2023, 18:05:47) [MSC v.1916 64 bit (AMD64)]\n",
      "3.11\n",
      "<built-in function gettrace>\n",
      "['C:\\\\Users\\\\Admin\\\\anaconda3\\\\Lib\\\\site-packages\\\\ipykernel_launcher.py', '-f', 'C:\\\\Users\\\\Admin\\\\AppData\\\\Roaming\\\\jupyter\\\\runtime\\\\kernel-70b5c847-695c-4878-b460-a31d97d7e627.json']\n"
     ]
    }
   ],
   "source": [
    "import sys\n",
    "print(sys.version)\n",
    "print(sys.winver)\n",
    "print(sys.gettrace)\n",
    "print(sys.argv)"
   ]
  },
  {
   "cell_type": "markdown",
   "id": "4dd1aaf8-4cd6-47ce-9d3e-9de7792f62dc",
   "metadata": {},
   "source": [
    "help function()"
   ]
  },
  {
   "cell_type": "code",
   "execution_count": 9,
   "id": "f91dc869-dd66-40ef-80da-05a7b99aefab",
   "metadata": {},
   "outputs": [
    {
     "name": "stdout",
     "output_type": "stream",
     "text": [
      "Help on built-in module sys:\n",
      "\n",
      "NAME\n",
      "    sys\n",
      "\n",
      "MODULE REFERENCE\n",
      "    https://docs.python.org/3.11/library/sys.html\n",
      "    \n",
      "    The following documentation is automatically generated from the Python\n",
      "    source files.  It may be incomplete, incorrect or include features that\n",
      "    are considered implementation detail and may vary between Python\n",
      "    implementations.  When in doubt, consult the module reference at the\n",
      "    location listed above.\n",
      "\n",
      "DESCRIPTION\n",
      "    This module provides access to some objects used or maintained by the\n",
      "    interpreter and to functions that interact strongly with the interpreter.\n",
      "    \n",
      "    Dynamic objects:\n",
      "    \n",
      "    argv -- command line arguments; argv[0] is the script pathname if known\n",
      "    path -- module search path; path[0] is the script directory, else ''\n",
      "    modules -- dictionary of loaded modules\n",
      "    \n",
      "    displayhook -- called to show results in an interactive session\n",
      "    excepthook -- called to handle any uncaught exception other than SystemExit\n",
      "      To customize printing in an interactive session or to install a custom\n",
      "      top-level exception handler, assign other functions to replace these.\n",
      "    \n",
      "    stdin -- standard input file object; used by input()\n",
      "    stdout -- standard output file object; used by print()\n",
      "    stderr -- standard error object; used for error messages\n",
      "      By assigning other file objects (or objects that behave like files)\n",
      "      to these, it is possible to redirect all of the interpreter's I/O.\n",
      "    \n",
      "    last_type -- type of last uncaught exception\n",
      "    last_value -- value of last uncaught exception\n",
      "    last_traceback -- traceback of last uncaught exception\n",
      "      These three are only available in an interactive session after a\n",
      "      traceback has been printed.\n",
      "    \n",
      "    Static objects:\n",
      "    \n",
      "    builtin_module_names -- tuple of module names built into this interpreter\n",
      "    copyright -- copyright notice pertaining to this interpreter\n",
      "    exec_prefix -- prefix used to find the machine-specific Python library\n",
      "    executable -- absolute path of the executable binary of the Python interpreter\n",
      "    float_info -- a named tuple with information about the float implementation.\n",
      "    float_repr_style -- string indicating the style of repr() output for floats\n",
      "    hash_info -- a named tuple with information about the hash algorithm.\n",
      "    hexversion -- version information encoded as a single integer\n",
      "    implementation -- Python implementation information.\n",
      "    int_info -- a named tuple with information about the int implementation.\n",
      "    maxsize -- the largest supported length of containers.\n",
      "    maxunicode -- the value of the largest Unicode code point\n",
      "    platform -- platform identifier\n",
      "    prefix -- prefix used to find the Python library\n",
      "    thread_info -- a named tuple with information about the thread implementation.\n",
      "    version -- the version of this interpreter as a string\n",
      "    version_info -- version information as a named tuple\n",
      "    dllhandle -- [Windows only] integer handle of the Python DLL\n",
      "    winver -- [Windows only] version number of the Python DLL\n",
      "    _enablelegacywindowsfsencoding -- [Windows only]\n",
      "    __stdin__ -- the original stdin; don't touch!\n",
      "    __stdout__ -- the original stdout; don't touch!\n",
      "    __stderr__ -- the original stderr; don't touch!\n",
      "    __displayhook__ -- the original displayhook; don't touch!\n",
      "    __excepthook__ -- the original excepthook; don't touch!\n",
      "    \n",
      "    Functions:\n",
      "    \n",
      "    displayhook() -- print an object to the screen, and save it in builtins._\n",
      "    excepthook() -- print an exception and its traceback to sys.stderr\n",
      "    exception() -- return the current thread's active exception\n",
      "    exc_info() -- return information about the current thread's active exception\n",
      "    exit() -- exit the interpreter by raising SystemExit\n",
      "    getdlopenflags() -- returns flags to be used for dlopen() calls\n",
      "    getprofile() -- get the global profiling function\n",
      "    getrefcount() -- return the reference count for an object (plus one :-)\n",
      "    getrecursionlimit() -- return the max recursion depth for the interpreter\n",
      "    getsizeof() -- return the size of an object in bytes\n",
      "    gettrace() -- get the global debug tracing function\n",
      "    setdlopenflags() -- set the flags to be used for dlopen() calls\n",
      "    setprofile() -- set the global profiling function\n",
      "    setrecursionlimit() -- set the max recursion depth for the interpreter\n",
      "    settrace() -- set the global debug tracing function\n",
      "\n",
      "FUNCTIONS\n",
      "    __breakpointhook__ = breakpointhook(...)\n",
      "        breakpointhook(*args, **kws)\n",
      "        \n",
      "        This hook function is called by built-in breakpoint().\n",
      "    \n",
      "    __displayhook__ = displayhook(object, /)\n",
      "        Print an object to sys.stdout and also save it in builtins._\n",
      "    \n",
      "    __excepthook__ = excepthook(exctype, value, traceback, /)\n",
      "        Handle an exception by displaying it with a traceback on sys.stderr.\n",
      "    \n",
      "    __unraisablehook__ = unraisablehook(unraisable, /)\n",
      "        Handle an unraisable exception.\n",
      "        \n",
      "        The unraisable argument has the following attributes:\n",
      "        \n",
      "        * exc_type: Exception type.\n",
      "        * exc_value: Exception value, can be None.\n",
      "        * exc_traceback: Exception traceback, can be None.\n",
      "        * err_msg: Error message, can be None.\n",
      "        * object: Object causing the exception, can be None.\n",
      "    \n",
      "    addaudithook(hook)\n",
      "        Adds a new audit hook callback.\n",
      "    \n",
      "    audit(...)\n",
      "        audit(event, *args)\n",
      "        \n",
      "        Passes the event to any audit hooks that are attached.\n",
      "    \n",
      "    call_tracing(func, args, /)\n",
      "        Call func(*args), while tracing is enabled.\n",
      "        \n",
      "        The tracing state is saved, and restored afterwards.  This is intended\n",
      "        to be called from a debugger from a checkpoint, to recursively debug\n",
      "        some other code.\n",
      "    \n",
      "    exc_info()\n",
      "        Return current exception information: (type, value, traceback).\n",
      "        \n",
      "        Return information about the most recent exception caught by an except\n",
      "        clause in the current stack frame or in an older stack frame.\n",
      "    \n",
      "    exception()\n",
      "        Return the current exception.\n",
      "        \n",
      "        Return the most recent exception caught by an except clause\n",
      "        in the current stack frame or in an older stack frame, or None\n",
      "        if no such exception exists.\n",
      "    \n",
      "    exit(status=None, /)\n",
      "        Exit the interpreter by raising SystemExit(status).\n",
      "        \n",
      "        If the status is omitted or None, it defaults to zero (i.e., success).\n",
      "        If the status is an integer, it will be used as the system exit status.\n",
      "        If it is another kind of object, it will be printed and the system\n",
      "        exit status will be one (i.e., failure).\n",
      "    \n",
      "    get_asyncgen_hooks()\n",
      "        Return the installed asynchronous generators hooks.\n",
      "        \n",
      "        This returns a namedtuple of the form (firstiter, finalizer).\n",
      "    \n",
      "    get_coroutine_origin_tracking_depth()\n",
      "        Check status of origin tracking for coroutine objects in this thread.\n",
      "    \n",
      "    get_int_max_str_digits()\n",
      "        Return the maximum string digits limit for non-binary int<->str conversions.\n",
      "    \n",
      "    getallocatedblocks()\n",
      "        Return the number of memory blocks currently allocated.\n",
      "    \n",
      "    getdefaultencoding()\n",
      "        Return the current default encoding used by the Unicode implementation.\n",
      "    \n",
      "    getfilesystemencodeerrors()\n",
      "        Return the error mode used Unicode to OS filename conversion.\n",
      "    \n",
      "    getfilesystemencoding()\n",
      "        Return the encoding used to convert Unicode filenames to OS filenames.\n",
      "    \n",
      "    getprofile()\n",
      "        Return the profiling function set with sys.setprofile.\n",
      "        \n",
      "        See the profiler chapter in the library manual.\n",
      "    \n",
      "    getrecursionlimit()\n",
      "        Return the current value of the recursion limit.\n",
      "        \n",
      "        The recursion limit is the maximum depth of the Python interpreter\n",
      "        stack.  This limit prevents infinite recursion from causing an overflow\n",
      "        of the C stack and crashing Python.\n",
      "    \n",
      "    getrefcount(object, /)\n",
      "        Return the reference count of object.\n",
      "        \n",
      "        The count returned is generally one higher than you might expect,\n",
      "        because it includes the (temporary) reference as an argument to\n",
      "        getrefcount().\n",
      "    \n",
      "    getsizeof(...)\n",
      "        getsizeof(object [, default]) -> int\n",
      "        \n",
      "        Return the size of object in bytes.\n",
      "    \n",
      "    getswitchinterval()\n",
      "        Return the current thread switch interval; see sys.setswitchinterval().\n",
      "    \n",
      "    gettrace()\n",
      "        Return the global debug tracing function set with sys.settrace.\n",
      "        \n",
      "        See the debugger chapter in the library manual.\n",
      "    \n",
      "    getwindowsversion()\n",
      "        Return info about the running version of Windows as a named tuple.\n",
      "        \n",
      "        The members are named: major, minor, build, platform, service_pack,\n",
      "        service_pack_major, service_pack_minor, suite_mask, product_type and\n",
      "        platform_version. For backward compatibility, only the first 5 items\n",
      "        are available by indexing. All elements are numbers, except\n",
      "        service_pack and platform_type which are strings, and platform_version\n",
      "        which is a 3-tuple. Platform is always 2. Product_type may be 1 for a\n",
      "        workstation, 2 for a domain controller, 3 for a server.\n",
      "        Platform_version is a 3-tuple containing a version number that is\n",
      "        intended for identifying the OS rather than feature detection.\n",
      "    \n",
      "    intern(string, /)\n",
      "        ``Intern'' the given string.\n",
      "        \n",
      "        This enters the string in the (global) table of interned strings whose\n",
      "        purpose is to speed up dictionary lookups. Return the string itself or\n",
      "        the previously interned string object with the same value.\n",
      "    \n",
      "    is_finalizing()\n",
      "        Return True if Python is exiting.\n",
      "    \n",
      "    set_asyncgen_hooks(...)\n",
      "        set_asyncgen_hooks(* [, firstiter] [, finalizer])\n",
      "        \n",
      "        Set a finalizer for async generators objects.\n",
      "    \n",
      "    set_coroutine_origin_tracking_depth(depth)\n",
      "        Enable or disable origin tracking for coroutine objects in this thread.\n",
      "        \n",
      "        Coroutine objects will track 'depth' frames of traceback information\n",
      "        about where they came from, available in their cr_origin attribute.\n",
      "        \n",
      "        Set a depth of 0 to disable.\n",
      "    \n",
      "    set_int_max_str_digits(maxdigits)\n",
      "        Set the maximum string digits limit for non-binary int<->str conversions.\n",
      "    \n",
      "    setprofile(...)\n",
      "        setprofile(function)\n",
      "        \n",
      "        Set the profiling function.  It will be called on each function call\n",
      "        and return.  See the profiler chapter in the library manual.\n",
      "    \n",
      "    setrecursionlimit(limit, /)\n",
      "        Set the maximum depth of the Python interpreter stack to n.\n",
      "        \n",
      "        This limit prevents infinite recursion from causing an overflow of the C\n",
      "        stack and crashing Python.  The highest possible limit is platform-\n",
      "        dependent.\n",
      "    \n",
      "    setswitchinterval(interval, /)\n",
      "        Set the ideal thread switching delay inside the Python interpreter.\n",
      "        \n",
      "        The actual frequency of switching threads can be lower if the\n",
      "        interpreter executes long sequences of uninterruptible code\n",
      "        (this is implementation-specific and workload-dependent).\n",
      "        \n",
      "        The parameter must represent the desired switching delay in seconds\n",
      "        A typical value is 0.005 (5 milliseconds).\n",
      "    \n",
      "    settrace(...)\n",
      "        settrace(function)\n",
      "        \n",
      "        Set the global debug tracing function.  It will be called on each\n",
      "        function call.  See the debugger chapter in the library manual.\n",
      "    \n",
      "    unraisablehook(unraisable, /)\n",
      "        Handle an unraisable exception.\n",
      "        \n",
      "        The unraisable argument has the following attributes:\n",
      "        \n",
      "        * exc_type: Exception type.\n",
      "        * exc_value: Exception value, can be None.\n",
      "        * exc_traceback: Exception traceback, can be None.\n",
      "        * err_msg: Error message, can be None.\n",
      "        * object: Object causing the exception, can be None.\n",
      "\n",
      "DATA\n",
      "    __stderr__ = <_io.TextIOWrapper name='<stderr>' mode='w' encoding='cp1...\n",
      "    __stdin__ = <_io.TextIOWrapper name='<stdin>' mode='r' encoding='cp125...\n",
      "    __stdout__ = <_io.TextIOWrapper name='<stdout>' mode='w' encoding='cp1...\n",
      "    api_version = 1013\n",
      "    argv = [r'C:\\Users\\Admin\\anaconda3\\Lib\\site-packages\\ipykernel_launche...\n",
      "    base_exec_prefix = r'C:\\Users\\Admin\\anaconda3'\n",
      "    base_prefix = r'C:\\Users\\Admin\\anaconda3'\n",
      "    builtin_module_names = ('_abc', '_ast', '_bisect', '_blake2', '_codecs...\n",
      "    byteorder = 'little'\n",
      "    copyright = 'Copyright (c) 2001-2023 Python Software Foundati...ematis...\n",
      "    displayhook = <ipykernel.displayhook.ZMQShellDisplayHook object>\n",
      "    dllhandle = 140728726323200\n",
      "    dont_write_bytecode = False\n",
      "    exec_prefix = r'C:\\Users\\Admin\\anaconda3'\n",
      "    executable = r'C:\\Users\\Admin\\anaconda3\\python.exe'\n",
      "    flags = sys.flags(debug=0, inspect=0, interactive=0, opt...coding=0, s...\n",
      "    float_info = sys.float_info(max=1.7976931348623157e+308, max_...epsilo...\n",
      "    float_repr_style = 'short'\n",
      "    hash_info = sys.hash_info(width=64, modulus=2305843009213693...iphash1...\n",
      "    hexversion = 51054576\n",
      "    implementation = namespace(name='cpython', cache_tag='cpython-311...as...\n",
      "    int_info = sys.int_info(bits_per_digit=30, sizeof_digit=4, ..._str_dig...\n",
      "    last_value = ModuleNotFoundError(\"No module named 'handcalcs'\")\n",
      "    maxsize = 9223372036854775807\n",
      "    maxunicode = 1114111\n",
      "    meta_path = [<_distutils_hack.DistutilsMetaFinder object>, <class '_fr...\n",
      "    modules = {'IPython': <module 'IPython' from 'C:\\\\Users\\\\Admin\\\\anacon...\n",
      "    orig_argv = [r'C:/Users/Admin/anaconda3\\python.exe', '-m', 'ipykernel_...\n",
      "    path = [r'C:\\Users\\Admin\\Documents\\10 days python challenges', r'C:\\Us...\n",
      "    path_hooks = [<class 'zipimport.zipimporter'>, <function FileFinder.pa...\n",
      "    path_importer_cache = {r'C:\\Users\\Admin\\Documents\\10 days python chall...\n",
      "    platform = 'win32'\n",
      "    platlibdir = 'DLLs'\n",
      "    prefix = r'C:\\Users\\Admin\\anaconda3'\n",
      "    ps1 = 'In : '\n",
      "    ps2 = '...: '\n",
      "    ps3 = 'Out: '\n",
      "    pycache_prefix = None\n",
      "    stderr = <ipykernel.iostream.OutStream object>\n",
      "    stdin = <_io.TextIOWrapper name='<stdin>' mode='r' encoding='cp1252'>\n",
      "    stdlib_module_names = frozenset({'__future__', '_abc', '_aix_support',...\n",
      "    stdout = <ipykernel.iostream.OutStream object>\n",
      "    thread_info = sys.thread_info(name='nt', lock=None, version=None)\n",
      "    version = '3.11.7 | packaged by Anaconda, Inc. | (main, Dec 15 2023, 1...\n",
      "    version_info = sys.version_info(major=3, minor=11, micro=7, releaselev...\n",
      "    warnoptions = []\n",
      "    winver = '3.11'\n",
      "\n",
      "FILE\n",
      "    (built-in)\n",
      "\n",
      "\n"
     ]
    }
   ],
   "source": [
    "help(sys)"
   ]
  },
  {
   "cell_type": "markdown",
   "id": "15648088-c939-4d60-856f-2236a5d32dea",
   "metadata": {},
   "source": [
    "Comment"
   ]
  },
  {
   "cell_type": "code",
   "execution_count": 10,
   "id": "59355fe9-41af-455f-bf26-72c0c6d576ef",
   "metadata": {},
   "outputs": [
    {
     "name": "stdout",
     "output_type": "stream",
     "text": [
      "hello world!\n"
     ]
    }
   ],
   "source": [
    "# this si a comment \n",
    "print(\"hello world!\")"
   ]
  },
  {
   "cell_type": "markdown",
   "id": "d100be66-2b9c-4031-8f4c-03fb2531bc52",
   "metadata": {},
   "source": [
    "Errors"
   ]
  },
  {
   "cell_type": "code",
   "execution_count": 11,
   "id": "ae971fdb-fc42-483a-8286-194a7adb466e",
   "metadata": {},
   "outputs": [
    {
     "ename": "NameError",
     "evalue": "name 'frint' is not defined",
     "output_type": "error",
     "traceback": [
      "\u001b[1;31m---------------------------------------------------------------------------\u001b[0m",
      "\u001b[1;31mNameError\u001b[0m                                 Traceback (most recent call last)",
      "Cell \u001b[1;32mIn[11], line 1\u001b[0m\n\u001b[1;32m----> 1\u001b[0m frint(\u001b[38;5;124m\"\u001b[39m\u001b[38;5;124mhello\u001b[39m\u001b[38;5;124m\"\u001b[39m)\n",
      "\u001b[1;31mNameError\u001b[0m: name 'frint' is not defined"
     ]
    }
   ],
   "source": [
    "frint(\"hello\")"
   ]
  },
  {
   "cell_type": "code",
   "execution_count": 12,
   "id": "56dff624-6229-4c3a-aef1-8fbad6cb27d3",
   "metadata": {},
   "outputs": [
    {
     "ename": "SyntaxError",
     "evalue": "unterminated string literal (detected at line 1) (3180031312.py, line 1)",
     "output_type": "error",
     "traceback": [
      "\u001b[1;36m  Cell \u001b[1;32mIn[12], line 1\u001b[1;36m\u001b[0m\n\u001b[1;33m    print(\"hello world!)\u001b[0m\n\u001b[1;37m          ^\u001b[0m\n\u001b[1;31mSyntaxError\u001b[0m\u001b[1;31m:\u001b[0m unterminated string literal (detected at line 1)\n"
     ]
    }
   ],
   "source": [
    "print(\"hello world!)"
   ]
  },
  {
   "cell_type": "markdown",
   "id": "1443b895-45c6-4760-89e5-68b4f914da21",
   "metadata": {},
   "source": [
    " corect code"
   ]
  },
  {
   "cell_type": "code",
   "execution_count": 13,
   "id": "8c8d76dd-a093-4771-9a40-a72da96a1dd8",
   "metadata": {},
   "outputs": [
    {
     "name": "stdout",
     "output_type": "stream",
     "text": [
      "hello\n"
     ]
    }
   ],
   "source": [
    "print(\"hello\")"
   ]
  },
  {
   "cell_type": "code",
   "execution_count": 15,
   "id": "2511cf91-bf15-44db-8cca-aada64cc7a9c",
   "metadata": {},
   "outputs": [
    {
     "name": "stdout",
     "output_type": "stream",
     "text": [
      "Hello world!\n",
      "12\n",
      "3.14\n",
      "True\n",
      "False\n",
      "True\n",
      "True\n"
     ]
    }
   ],
   "source": [
    "# strings\n",
    "print(\"Hello world!\")\n",
    "#integer\n",
    "print(12)\n",
    "#float\n",
    "print(3.14)\n",
    "#bolean\n",
    "print(True)\n",
    "print(False)\n",
    "print(bool(1))\n",
    "print(bool(2))\n",
    "\n"
   ]
  },
  {
   "cell_type": "markdown",
   "id": "a21d1a4b-333f-48ad-8b3f-a669058b4bdc",
   "metadata": {},
   "source": [
    "type () function"
   ]
  },
  {
   "cell_type": "code",
   "execution_count": 16,
   "id": "10c7904f-aa3d-4721-8837-4a8b864366b5",
   "metadata": {},
   "outputs": [
    {
     "name": "stdout",
     "output_type": "stream",
     "text": [
      "<class 'str'>\n",
      "<class 'int'>\n",
      "<class 'float'>\n",
      "<class 'bool'>\n",
      "<class 'bool'>\n"
     ]
    }
   ],
   "source": [
    "# string \n",
    "print(type(\"hello world!\"))\n",
    "#int\n",
    "print(type(12))\n",
    "#float\n",
    "print(type(3.14))\n",
    "#Boolean\n",
    "print(type(True))\n",
    "print(type(False))"
   ]
  },
  {
   "cell_type": "code",
   "execution_count": 17,
   "id": "6c5cc2cd-d179-4d10-8f89-7618845d2dcb",
   "metadata": {},
   "outputs": [
    {
     "name": "stdout",
     "output_type": "stream",
     "text": [
      "sys.int_info(bits_per_digit=30, sizeof_digit=4, default_max_str_digits=4300, str_digits_check_threshold=640)\n",
      "\n",
      "sys.float_info(max=1.7976931348623157e+308, max_exp=1024, max_10_exp=308, min=2.2250738585072014e-308, min_exp=-1021, min_10_exp=-307, dig=15, mant_dig=53, epsilon=2.220446049250313e-16, radix=2, rounds=1)\n"
     ]
    }
   ],
   "source": [
    "print(sys.int_info)\n",
    "print()\n",
    "print(sys.float_info)"
   ]
  },
  {
   "cell_type": "markdown",
   "id": "b60b191c-8fbd-4186-a463-cc3aee4cf325",
   "metadata": {},
   "source": [
    " Converting an object type to another object type\n"
   ]
  },
  {
   "cell_type": "code",
   "execution_count": 25,
   "id": "af7ad132-25cf-4460-9609-a8e36d87c9df",
   "metadata": {},
   "outputs": [
    {
     "name": "stdout",
     "output_type": "stream",
     "text": [
      "6\n",
      "6.0\n",
      "<class 'int'>\n",
      "<class 'str'>\n",
      "<class 'float'>\n"
     ]
    }
   ],
   "source": [
    "# Lets convert the integer number 6 to string or float..\n",
    "number = 6\n",
    "print(str(number))\n",
    "print(float(number))\n",
    "print(type(number))\n",
    "print(type(str(number)))\n",
    "print(type(float(number)))\n"
   ]
  },
  {
   "cell_type": "code",
   "execution_count": 30,
   "id": "457e33d4-d7cd-48d3-999e-0f863c3c4a83",
   "metadata": {},
   "outputs": [
    {
     "name": "stdout",
     "output_type": "stream",
     "text": [
      "3.14\n",
      "3\n",
      "<class 'str'>\n",
      "<class 'int'>\n"
     ]
    }
   ],
   "source": [
    "#Lets convert the float number 3.14 into an integr and string.\n",
    "number = 3.14\n",
    "print(str(number))\n",
    "print(int(number))\n",
    "print(type(str(number)))\n",
    "print(type(int(number))) "
   ]
  },
  {
   "cell_type": "code",
   "execution_count": 39,
   "id": "d912d76d-4ae0-474a-b169-d0bb405688d7",
   "metadata": {},
   "outputs": [
    {
     "name": "stdout",
     "output_type": "stream",
     "text": [
      "1\n",
      "0\n",
      "1.0\n",
      "0.0\n",
      "<class 'int'>\n",
      "<class 'int'>\n",
      "<class 'float'>\n",
      "<class 'float'>\n",
      "True\n",
      "False\n"
     ]
    }
   ],
   "source": [
    "\n",
    "# lets convert to the booleans to an integer.\n",
    "bool_1 = True\n",
    "bool_2 = False\n",
    "print(int(bool_1))\n",
    "print(int(bool_2))\n",
    "print(float(bool_1))\n",
    "print(float(bool_2))\n",
    "print(type(int(bool_1)))\n",
    "print(type(int(bool_2)))\n",
    "print(type(float(bool_1)))\n",
    "print(type(float(bool_2)))\n",
    "print(bool(1))\n",
    "print(bool(0))"
   ]
  },
  {
   "cell_type": "code",
   "execution_count": 41,
   "id": "583c9b21-1508-4c29-85ef-63523a6253ef",
   "metadata": {},
   "outputs": [
    {
     "name": "stdout",
     "output_type": "stream",
     "text": [
      "3.0\n",
      "2.25\n",
      "<class 'int'>\n",
      "<class 'int'>\n"
     ]
    }
   ],
   "source": [
    "#lets find the data types of 9/3 and 9//4?\n",
    "print(9/3)\n",
    "print(9/4)\n",
    "print(type(9//3))\n",
    "print(type(9//4))"
   ]
  },
  {
   "cell_type": "markdown",
   "id": "b33f37f9-44f7-464f-bc92-169e62c94e8c",
   "metadata": {},
   "source": [
    "Expression and variable"
   ]
  },
  {
   "cell_type": "code",
   "execution_count": 43,
   "id": "319819c7-1cb8-46b0-b27f-22a3a5eb523d",
   "metadata": {},
   "outputs": [
    {
     "name": "stdout",
     "output_type": "stream",
     "text": [
      "789\n",
      "<class 'int'>\n"
     ]
    }
   ],
   "source": [
    "# Addition \n",
    "x = 56+676+34+23\n",
    "print(x)\n",
    "print(type(x))"
   ]
  },
  {
   "cell_type": "code",
   "execution_count": 45,
   "id": "d48d3d5a-3f36-4a08-a9d4-7c2e745aa2a0",
   "metadata": {},
   "outputs": [
    {
     "name": "stdout",
     "output_type": "stream",
     "text": [
      "-117.34\n",
      "<class 'float'>\n"
     ]
    }
   ],
   "source": [
    "# subtraction\n",
    "x = 23-34-45-56-5.34\n",
    "print(x)\n",
    "print(type(x))"
   ]
  },
  {
   "cell_type": "code",
   "execution_count": 49,
   "id": "0e2d3ebc-9fac-464d-8094-471301a80d63",
   "metadata": {},
   "outputs": [
    {
     "name": "stdout",
     "output_type": "stream",
     "text": [
      "83334\n",
      "<class 'int'>\n"
     ]
    }
   ],
   "source": [
    "#multipliacation\n",
    "x= 86*3*323\n",
    "print(x)\n",
    "print(type(x))"
   ]
  },
  {
   "cell_type": "code",
   "execution_count": 50,
   "id": "39708ec1-ee1a-4313-8eb7-5f2881015d61",
   "metadata": {},
   "outputs": [
    {
     "name": "stdout",
     "output_type": "stream",
     "text": [
      "5.208333333333333\n",
      "<class 'float'>\n"
     ]
    }
   ],
   "source": [
    "# Division \n",
    "x= 125/24\n",
    "print(x)\n",
    "print(type(x))"
   ]
  },
  {
   "cell_type": "code",
   "execution_count": 51,
   "id": "c98d69a0-39f8-48ab-87e2-20ff548394e5",
   "metadata": {},
   "outputs": [
    {
     "name": "stdout",
     "output_type": "stream",
     "text": [
      "3\n",
      "<class 'int'>\n"
     ]
    }
   ],
   "source": [
    "# float division \n",
    "x= 125//34\n",
    "print(x)\n",
    "print(type(x))"
   ]
  },
  {
   "cell_type": "code",
   "execution_count": 52,
   "id": "a0dc7f11-048d-4882-a9df-bad3d45e177f",
   "metadata": {},
   "outputs": [
    {
     "name": "stdout",
     "output_type": "stream",
     "text": [
      "8\n",
      "<class 'int'>\n"
     ]
    }
   ],
   "source": [
    "# eponentiation\n",
    "x= 2**3\n",
    "print(x)\n",
    "print(type(x))"
   ]
  },
  {
   "cell_type": "code",
   "execution_count": 53,
   "id": "7f15134d-71e8-493b-8f74-7bad894c191e",
   "metadata": {},
   "outputs": [
    {
     "name": "stdout",
     "output_type": "stream",
     "text": [
      "1200\n",
      "<class 'int'>\n",
      "5.8\n",
      "<class 'float'>\n"
     ]
    }
   ],
   "source": [
    "#  an example: lets calculates how many minutes there are how many minutes in 20 hour?\n",
    "one_hour = 60\n",
    "hour = 20\n",
    "minutes = one_hour * hour\n",
    "print(minutes)\n",
    "print(type(minutes))\n",
    "\n",
    "# an example of  lest calculate how many hours in 348 minutes?\n",
    "minutes = 348\n",
    "one_hour = 60\n",
    "hours = 348/60\n",
    "print(hours)\n",
    "print(type(hours))"
   ]
  },
  {
   "cell_type": "code",
   "execution_count": 58,
   "id": "d3f4a8b1-368e-44da-a1d9-92323a6309bd",
   "metadata": {},
   "outputs": [
    {
     "name": "stdout",
     "output_type": "stream",
     "text": [
      "312\n",
      "4272\n",
      "4584\n",
      "-3960\n",
      "1332864\n",
      "0.07303370786516854\n",
      "0\n",
      "312\n"
     ]
    }
   ],
   "source": [
    "# mathematical expression\n",
    "x= 45+3*89\n",
    "y = (45+3)*89\n",
    "print(x)\n",
    "print(y)\n",
    "print(x+y)\n",
    "print(x-y)\n",
    "print(x*y)\n",
    "print(x/y)\n",
    "print(x//y)\n",
    "print(x%y)"
   ]
  },
  {
   "cell_type": "raw",
   "id": "b692516b-d8ff-4e93-b1b3-51ac870166b3",
   "metadata": {},
   "source": [
    "variables"
   ]
  },
  {
   "cell_type": "code",
   "execution_count": 60,
   "id": "ddf0d2fe-2b3c-4406-b434-56ef1201ec94",
   "metadata": {},
   "outputs": [
    {
     "name": "stdout",
     "output_type": "stream",
     "text": [
      "90\n",
      "<class 'int'>\n"
     ]
    }
   ],
   "source": [
    "number = 90\n",
    "print(number)\n",
    "print(type(number))"
   ]
  },
  {
   "cell_type": "code",
   "execution_count": 63,
   "id": "268cdb8e-b668-470e-9fa4-c47f3500d9f7",
   "metadata": {},
   "outputs": [
    {
     "name": "stdout",
     "output_type": "stream",
     "text": [
      "-49\n",
      "-7.0\n",
      "-3.5\n"
     ]
    }
   ],
   "source": [
    "x=25\n",
    "y= 87\n",
    "z= 5*x-2*y\n",
    "print(z)\n",
    "t=z/7\n",
    "print(t)\n",
    "z= z/14\n",
    "print(z)"
   ]
  },
  {
   "cell_type": "code",
   "execution_count": 65,
   "id": "bc87db20-e3ee-476e-8dde-ad1d4f612667",
   "metadata": {},
   "outputs": [
    {
     "name": "stdout",
     "output_type": "stream",
     "text": [
      "8 4 2\n",
      "8\n",
      "4\n",
      "2\n",
      "2.0\n",
      "4.0\n",
      "14\n",
      "64\n",
      "2\n",
      "1.0\n",
      "1\n",
      "0\n"
     ]
    }
   ],
   "source": [
    "x,y,z = 8,4,2\n",
    "print(x,y,z)\n",
    "print(x)\n",
    "print(y)\n",
    "print(z)\n",
    "print(x/y)\n",
    "print(x/z)\n",
    "print(x+y+z)\n",
    "print(x*y*z)\n",
    "print(x-y-z)\n",
    "print(x/y/z)\n",
    "print(x//y//z)\n",
    "print(x%y%z)"
   ]
  },
  {
   "cell_type": "markdown",
   "id": "458fc723-c4d7-4e0e-bede-f86ad4659b85",
   "metadata": {},
   "source": [
    "python tutorial:\n"
   ]
  },
  {
   "cell_type": "markdown",
   "id": "ce98ef73-e5ec-4096-a333-08a86820561c",
   "metadata": {},
   "source": [
    "2.string"
   ]
  },
  {
   "cell_type": "code",
   "execution_count": 67,
   "id": "07446da2-bc39-4e48-bb47-733b0533e672",
   "metadata": {},
   "outputs": [
    {
     "name": "stdout",
     "output_type": "stream",
     "text": [
      "<class 'str'>\n"
     ]
    }
   ],
   "source": [
    "print(type(\"hello world\"))"
   ]
  },
  {
   "cell_type": "code",
   "execution_count": 68,
   "id": "8c8c812a-957e-45f2-9d3f-969993df0b7b",
   "metadata": {},
   "outputs": [
    {
     "data": {
      "text/plain": [
       "'2,4,6'"
      ]
     },
     "execution_count": 68,
     "metadata": {},
     "output_type": "execute_result"
    }
   ],
   "source": [
    "# digit spaces in string:\n",
    "\"2,4,6\""
   ]
  },
  {
   "cell_type": "code",
   "execution_count": 69,
   "id": "8db2d996-8988-49aa-9d7a-74f9856b2748",
   "metadata": {},
   "outputs": [
    {
     "data": {
      "text/plain": [
       "'@#5!*^%&'"
      ]
     },
     "execution_count": 69,
     "metadata": {},
     "output_type": "execute_result"
    }
   ],
   "source": [
    "# specific character in string:\n",
    "\"@#5!*^%&\""
   ]
  },
  {
   "cell_type": "code",
   "execution_count": 70,
   "id": "6695536a-fb64-4ae2-a546-637cbe596332",
   "metadata": {},
   "outputs": [
    {
     "name": "stdout",
     "output_type": "stream",
     "text": [
      "hello \n"
     ]
    }
   ],
   "source": [
    "# printing a string:\n",
    "print(\"hello \")"
   ]
  },
  {
   "cell_type": "code",
   "execution_count": 71,
   "id": "b973cf04-6ec1-4c3e-8e62-278e60ea60ce",
   "metadata": {},
   "outputs": [
    {
     "name": "stdout",
     "output_type": "stream",
     "text": [
      "hello world!\n",
      "<class 'str'>\n"
     ]
    }
   ],
   "source": [
    "# assinging  a string:\n",
    "msg = \"hello world!\"\n",
    "print(msg)\n",
    "print(type(msg))"
   ]
  },
  {
   "cell_type": "markdown",
   "id": "61a383cd-4942-49f3-9128-172f85624018",
   "metadata": {},
   "source": [
    "indexing of string"
   ]
  },
  {
   "cell_type": "code",
   "execution_count": 77,
   "id": "6b867d2c-5ab3-4534-a1e9-d8d2a23a6c94",
   "metadata": {},
   "outputs": [
    {
     "name": "stdout",
     "output_type": "stream",
     "text": [
      "h\n"
     ]
    }
   ],
   "source": [
    "# printing  the first elements in a string:\n",
    "msg = \"hello world!\"\n",
    "print(msg[0])"
   ]
  },
  {
   "cell_type": "code",
   "execution_count": 78,
   "id": "d122e729-799a-465e-8525-5b1603e634d8",
   "metadata": {},
   "outputs": [
    {
     "name": "stdout",
     "output_type": "stream",
     "text": [
      "r\n"
     ]
    }
   ],
   "source": [
    "print(msg[8])"
   ]
  },
  {
   "cell_type": "code",
   "execution_count": 79,
   "id": "8ca3fcd5-2ab0-4f24-9a9e-1f629a906fa4",
   "metadata": {},
   "outputs": [
    {
     "data": {
      "text/plain": [
       "12"
      ]
     },
     "execution_count": 79,
     "metadata": {},
     "output_type": "execute_result"
    }
   ],
   "source": [
    "len(msg)"
   ]
  },
  {
   "cell_type": "code",
   "execution_count": 80,
   "id": "b4a5e8ef-f4de-4929-806d-d574311c5414",
   "metadata": {},
   "outputs": [
    {
     "name": "stdout",
     "output_type": "stream",
     "text": [
      "e\n"
     ]
    }
   ],
   "source": [
    "print(msg[1])"
   ]
  },
  {
   "cell_type": "markdown",
   "id": "2b4c090d-b19c-404a-b86f-b8f51c598591",
   "metadata": {},
   "source": [
    "Negative indexing of string"
   ]
  },
  {
   "cell_type": "code",
   "execution_count": 81,
   "id": "371d543d-2b97-43a3-b3fb-b044249a9b4c",
   "metadata": {},
   "outputs": [
    {
     "data": {
      "text/plain": [
       "'!'"
      ]
     },
     "execution_count": 81,
     "metadata": {},
     "output_type": "execute_result"
    }
   ],
   "source": [
    "msg[-1]"
   ]
  },
  {
   "cell_type": "code",
   "execution_count": 82,
   "id": "be437ac0-dc7a-4579-ae14-8d03935c4a09",
   "metadata": {},
   "outputs": [
    {
     "data": {
      "text/plain": [
       "'h'"
      ]
     },
     "execution_count": 82,
     "metadata": {},
     "output_type": "execute_result"
    }
   ],
   "source": [
    "msg[-12]"
   ]
  },
  {
   "cell_type": "code",
   "execution_count": 88,
   "id": "118259d8-3208-4858-9865-7a1d42341602",
   "metadata": {},
   "outputs": [
    {
     "data": {
      "text/plain": [
       "'hello world!'"
      ]
     },
     "execution_count": 88,
     "metadata": {},
     "output_type": "execute_result"
    }
   ],
   "source": [
    "msg"
   ]
  },
  {
   "cell_type": "code",
   "execution_count": 87,
   "id": "ae83a5d6-5781-448b-9f57-0aa0cea5863b",
   "metadata": {},
   "outputs": [
    {
     "data": {
      "text/plain": [
       "12"
      ]
     },
     "execution_count": 87,
     "metadata": {},
     "output_type": "execute_result"
    }
   ],
   "source": [
    "len(\"hello kamran\")"
   ]
  },
  {
   "cell_type": "code",
   "execution_count": 89,
   "id": "25d76af3-bb93-4aa5-8ee4-e58fe0e8ffed",
   "metadata": {},
   "outputs": [
    {
     "data": {
      "text/plain": [
       "'world!'"
      ]
     },
     "execution_count": 89,
     "metadata": {},
     "output_type": "execute_result"
    }
   ],
   "source": [
    "msg[6:12]"
   ]
  },
  {
   "cell_type": "markdown",
   "id": "a1b6886f-841a-4110-88ef-62186dd01acc",
   "metadata": {},
   "source": [
    "striding in string"
   ]
  },
  {
   "cell_type": "code",
   "execution_count": 90,
   "id": "e7af1c33-2921-4c59-a6d3-0643f4c43a5a",
   "metadata": {},
   "outputs": [
    {
     "data": {
      "text/plain": [
       "'hlowrd'"
      ]
     },
     "execution_count": 90,
     "metadata": {},
     "output_type": "execute_result"
    }
   ],
   "source": [
    "msg[::2]"
   ]
  },
  {
   "cell_type": "code",
   "execution_count": 91,
   "id": "7ee59e15-ad50-4a35-afba-c935e761bb6e",
   "metadata": {},
   "outputs": [
    {
     "data": {
      "text/plain": [
       "'hlo'"
      ]
     },
     "execution_count": 91,
     "metadata": {},
     "output_type": "execute_result"
    }
   ],
   "source": [
    "msg[0:6:2]"
   ]
  },
  {
   "cell_type": "markdown",
   "id": "95e4bb02-1db8-485b-8891-9d3f249e3b94",
   "metadata": {},
   "source": [
    "concatenate string"
   ]
  },
  {
   "cell_type": "code",
   "execution_count": 93,
   "id": "ece8914d-499e-4a57-9157-8fdcaef4c2fc",
   "metadata": {},
   "outputs": [
    {
     "data": {
      "text/plain": [
       "'Hello world!How many peaople are living in earth?'"
      ]
     },
     "execution_count": 93,
     "metadata": {},
     "output_type": "execute_result"
    }
   ],
   "source": [
    "msg= \"Hello world!\"\n",
    "question = \"How many peaople are living in earth?\"\n",
    "statement = msg + question\n",
    "statement"
   ]
  },
  {
   "cell_type": "markdown",
   "id": "27bfb51d-93ed-429f-93dd-9ab616ff4b4f",
   "metadata": {},
   "source": [
    "5*\"hello world\""
   ]
  },
  {
   "cell_type": "code",
   "execution_count": 94,
   "id": "7dbee487-0b10-4e8e-8e63-6cbbaa9a5f67",
   "metadata": {},
   "outputs": [
    {
     "data": {
      "text/plain": [
       "'hello worldhello worldhello worldhello world'"
      ]
     },
     "execution_count": 94,
     "metadata": {},
     "output_type": "execute_result"
    }
   ],
   "source": [
    "4*\"hello world\""
   ]
  },
  {
   "cell_type": "markdown",
   "id": "55d95742-8a0b-4533-b2a5-da2732a79130",
   "metadata": {},
   "source": [
    "Escape sequances"
   ]
  },
  {
   "cell_type": "code",
   "execution_count": 95,
   "id": "3d74fff1-228f-4a35-a8a7-14ebf6419c9e",
   "metadata": {},
   "outputs": [
    {
     "name": "stdout",
     "output_type": "stream",
     "text": [
      "hello \n",
      " world \\ how \t people are living on \\ earth?\n"
     ]
    }
   ],
   "source": [
    "# new lines escape sequances.\n",
    "print(\"hello \\n world \\ how \\t people are living on \\\\ earth?\")\n"
   ]
  },
  {
   "cell_type": "markdown",
   "id": "fc010998-7c81-4ea2-a7aa-3101419ac049",
   "metadata": {},
   "source": [
    "string operations"
   ]
  },
  {
   "cell_type": "code",
   "execution_count": 98,
   "id": "ac4ad37d-93c3-4147-b744-31a4888c164c",
   "metadata": {},
   "outputs": [
    {
     "name": "stdout",
     "output_type": "stream",
     "text": [
      "before upper: helo python\n",
      "after Upper: HELO PYTHON\n",
      "before lower: helo python\n",
      "after lower helo python\n",
      "before capitalize helo python\n",
      "after capitalize: Helo python\n"
     ]
    }
   ],
   "source": [
    "msg = \"helo python\"\n",
    "print(\"before upper:\", msg)\n",
    "print(\"after Upper:\",msg.upper())\n",
    "print(\"before lower:\",msg)\n",
    "print(\"after lower\", msg.lower())\n",
    "print(\"before capitalize\", msg)\n",
    "print(\"after capitalize:\", msg.capitalize())"
   ]
  },
  {
   "cell_type": "code",
   "execution_count": 102,
   "id": "626e4b13-431e-4f32-9d70-bea735fde095",
   "metadata": {},
   "outputs": [
    {
     "name": "stdout",
     "output_type": "stream",
     "text": [
      " what is  python \n"
     ]
    }
   ],
   "source": [
    "msg = \" hello python \"\n",
    "print(msg.replace(\"hello\",\"what is \"))"
   ]
  },
  {
   "cell_type": "code",
   "execution_count": 103,
   "id": "981a6fbf-2d00-4069-9f91-23afb73ea936",
   "metadata": {},
   "outputs": [
    {
     "name": "stdout",
     "output_type": "stream",
     "text": [
      "-1\n"
     ]
    }
   ],
   "source": [
    "print(msg.find(\"is\"))"
   ]
  },
  {
   "cell_type": "code",
   "execution_count": 104,
   "id": "2e73bd39-1de0-4d3b-856b-620b74f73269",
   "metadata": {},
   "outputs": [
    {
     "data": {
      "text/plain": [
       "' hello python '"
      ]
     },
     "execution_count": 104,
     "metadata": {},
     "output_type": "execute_result"
    }
   ],
   "source": [
    "msg.casefold()"
   ]
  },
  {
   "cell_type": "code",
   "execution_count": 105,
   "id": "c2640c9d-e311-4272-820c-bd225b2dace0",
   "metadata": {},
   "outputs": [
    {
     "data": {
      "text/plain": [
       "'+++++++++++++ hello python +++++++++++++'"
      ]
     },
     "execution_count": 105,
     "metadata": {},
     "output_type": "execute_result"
    }
   ],
   "source": [
    "msg.center(40,\"+\")"
   ]
  },
  {
   "cell_type": "code",
   "execution_count": 107,
   "id": "3e1f6b90-36ce-49d2-babe-edac9f14955c",
   "metadata": {},
   "outputs": [
    {
     "data": {
      "text/plain": [
       "0"
      ]
     },
     "execution_count": 107,
     "metadata": {},
     "output_type": "execute_result"
    }
   ],
   "source": [
    "msg.count(\"is\")"
   ]
  },
  {
   "cell_type": "code",
   "execution_count": 108,
   "id": "42edcb4c-d439-4184-ae23-dd118d19ea88",
   "metadata": {},
   "outputs": [
    {
     "name": "stdout",
     "output_type": "stream",
     "text": [
      "hello python \n"
     ]
    }
   ],
   "source": [
    "# format methode:\n",
    "msg = \"hello python \"\n",
    "print(msg.format(python= \"world!\"))"
   ]
  },
  {
   "cell_type": "code",
   "execution_count": 112,
   "id": "87da405d-b453-43a2-be20-1e55e2072064",
   "metadata": {},
   "outputs": [
    {
     "name": "stdout",
     "output_type": "stream",
     "text": [
      "hello my name is kamran and am 18 year old\n",
      "hello my name is kamran and am 18 year old\n",
      "hello my name is kashif and am 30 year old\n"
     ]
    }
   ],
   "source": [
    "\n",
    "msge = \"hello my name is {} and am {} year old\"\n",
    "print(msge.format(\"kamran\",18))\n",
    "msge = \"hello my name is {} and am {} year old\"\n",
    "print(msge.format(\"kamran\",18))\n",
    "msge = \"hello my name is {} and am {} year old\"\n",
    "print(msge.format(\"kashif\",30))\n"
   ]
  },
  {
   "cell_type": "markdown",
   "id": "f1dade5a-e091-470b-b16d-05804068c987",
   "metadata": {},
   "source": [
    "python tutorial lists:\n"
   ]
  },
  {
   "cell_type": "markdown",
   "id": "76920661-e111-4308-aba4-e3b8b79dc5c8",
   "metadata": {},
   "source": [
    "lists are ordered\n",
    "lists can contain any arbitrary\n",
    "lists elements can be accesed\n",
    "lists can be nested to arbitrary depth\n",
    "lists are mutable\n",
    "lsits are dynamic"
   ]
  },
  {
   "cell_type": "markdown",
   "id": "1c4b0b72-83f2-44a5-b7fe-ac85c5c51ad4",
   "metadata": {},
   "source": [
    "indexing"
   ]
  },
  {
   "cell_type": "code",
   "execution_count": 114,
   "id": "6f467a5d-11bd-4afc-b6a8-f027b9e6840a",
   "metadata": {},
   "outputs": [
    {
     "data": {
      "text/plain": [
       "['python', 25, 2022]"
      ]
     },
     "execution_count": 114,
     "metadata": {},
     "output_type": "execute_result"
    }
   ],
   "source": [
    "nils = [\"python\", 25,2022]\n",
    "nils"
   ]
  },
  {
   "cell_type": "markdown",
   "id": "8195fc2e-5559-4176-be27-898a923ee330",
   "metadata": {},
   "source": [
    "what can content a lists?"
   ]
  },
  {
   "cell_type": "markdown",
   "id": "a2c45fe9-9fdb-4971-b559-36b9211a84fd",
   "metadata": {},
   "source": [
    "string\n",
    "floats\n",
    "integer\n",
    "Boleen\n",
    "nested lists\n",
    "nested tuple\n",
    "other data strucure\n"
   ]
  },
  {
   "cell_type": "code",
   "execution_count": 3,
   "id": "43350896-f511-40b1-81c0-6c8e8dac2d88",
   "metadata": {},
   "outputs": [
    {
     "data": {
      "text/plain": [
       "['python',\n",
       " 3.14,\n",
       " 2022,\n",
       " [1, 1, 2, 3, 5, 8, 13, 21, 34],\n",
       " ['hello', 'python', 3.14, 2022]]"
      ]
     },
     "execution_count": 3,
     "metadata": {},
     "output_type": "execute_result"
    }
   ],
   "source": [
    "nils = [\"python\",3.14,2022,[1,1,2,3,5,8,13,21,34],[\"hello\",\"python\",3.14,2022]]\n",
    "nils "
   ]
  },
  {
   "cell_type": "markdown",
   "id": "21f87576-9fd0-4713-b463-02c98c7d8dd2",
   "metadata": {},
   "source": [
    "list operation"
   ]
  },
  {
   "cell_type": "code",
   "execution_count": 4,
   "id": "2dd584cf-dab7-4454-b7ab-8dc5ca48388e",
   "metadata": {},
   "outputs": [
    {
     "data": {
      "text/plain": [
       "5"
      ]
     },
     "execution_count": 4,
     "metadata": {},
     "output_type": "execute_result"
    }
   ],
   "source": [
    "len(nils)"
   ]
  },
  {
   "cell_type": "markdown",
   "id": "adc8fd67-4cd2-43af-9148-2580c033cede",
   "metadata": {},
   "source": [
    "slicing"
   ]
  },
  {
   "cell_type": "code",
   "execution_count": 5,
   "id": "ea650c9e-ee15-43a0-813a-606fd299d712",
   "metadata": {},
   "outputs": [
    {
     "name": "stdout",
     "output_type": "stream",
     "text": [
      "['python', 3.14]\n",
      "[2022, [1, 1, 2, 3, 5, 8, 13, 21, 34]]\n",
      "[['hello', 'python', 3.14, 2022]]\n"
     ]
    }
   ],
   "source": [
    "print(nils[0:2])\n",
    "print(nils[2:4])\n",
    "print(nils[4:6])"
   ]
  },
  {
   "cell_type": "markdown",
   "id": "91053ff2-4de2-4631-8eac-90e96388fc38",
   "metadata": {},
   "source": [
    "Extending the list"
   ]
  },
  {
   "cell_type": "markdown",
   "id": "5f373db8-fa53-4f26-ba14-f4ff1ce0085d",
   "metadata": {},
   "source": [
    " we use the Extend() function to add new elements in list"
   ]
  },
  {
   "cell_type": "markdown",
   "id": "f1c093fb-cb06-4ce5-a98c-67b63dcc45f0",
   "metadata": {},
   "source": [
    "  with this function we add more than one elements to the list"
   ]
  },
  {
   "cell_type": "code",
   "execution_count": 8,
   "id": "11eca02b-0ad3-4809-8cd2-ca4b1ef73ede",
   "metadata": {},
   "outputs": [
    {
     "data": {
      "text/plain": [
       "['python',\n",
       " 3.14,\n",
       " 2022,\n",
       " [1, 1, 2, 3, 5, 8, 13, 21, 34],\n",
       " ['hello', 'python', 3.14, 2022],\n",
       " 'hello world!',\n",
       " 1.618]"
      ]
     },
     "execution_count": 8,
     "metadata": {},
     "output_type": "execute_result"
    }
   ],
   "source": [
    "nils = [\"python\",3.14,2022,[1,1,2,3,5,8,13,21,34],[\"hello\",\"python\",3.14,2022]]\n",
    "nils.extend([\"hello world!\",1.618])\n",
    "nils\n"
   ]
  },
  {
   "cell_type": "markdown",
   "id": "5a9f9106-851a-4cb1-b294-69d8363207b6",
   "metadata": {},
   "source": [
    "append(0 methode"
   ]
  },
  {
   "cell_type": "markdown",
   "id": "b53b7d07-f013-4b55-b904-43197cbb1ed9",
   "metadata": {},
   "source": [
    "as diffrent from the extend methode with the append methde.we add only one element to the list.\n"
   ]
  },
  {
   "cell_type": "markdown",
   "id": "9aa6958b-b6ca-4bec-9956-a562bb2bc5df",
   "metadata": {},
   "source": [
    "you cansee the diffrence comparing the above and below code."
   ]
  },
  {
   "cell_type": "code",
   "execution_count": 9,
   "id": "056d9d04-8b8f-4f2f-a7a1-2b26d6459d9c",
   "metadata": {},
   "outputs": [
    {
     "data": {
      "text/plain": [
       "['python',\n",
       " 3.14,\n",
       " 2022,\n",
       " [1, 1, 2, 3, 5, 8, 13, 21, 34],\n",
       " ['hello', 'python', 3.14, 2022],\n",
       " ['hello world!', 1.618]]"
      ]
     },
     "execution_count": 9,
     "metadata": {},
     "output_type": "execute_result"
    }
   ],
   "source": [
    "nils = [\"python\",3.14,2022,[1,1,2,3,5,8,13,21,34],[\"hello\",\"python\",3.14,2022]]\n",
    "nils.append([\"hello world!\",1.618])\n",
    "nils"
   ]
  },
  {
   "cell_type": "code",
   "execution_count": 11,
   "id": "a7e4966c-689e-4066-a17f-36cfe8b06993",
   "metadata": {},
   "outputs": [
    {
     "data": {
      "text/plain": [
       "24"
      ]
     },
     "execution_count": 11,
     "metadata": {},
     "output_type": "execute_result"
    }
   ],
   "source": [
    "lis=[1,2,3,4,5]\n",
    "len(lis)\n",
    "lis\n",
    "lis.count(4)\n",
    "lis.index(2)\n",
    "lis.insert(8,9)\n",
    "lis\n",
    "max(lis)\n",
    "min(lis)\n",
    "sum(lis)\n"
   ]
  },
  {
   "cell_type": "markdown",
   "id": "36c69eee-aca5-4b9e-96eb-60ea41866d38",
   "metadata": {},
   "source": [
    "Changing the element of a list since its mutable"
   ]
  },
  {
   "cell_type": "code",
   "execution_count": 14,
   "id": "520a8386-b3d2-40d2-a47a-e6592f3fe206",
   "metadata": {},
   "outputs": [
    {
     "name": "stdout",
     "output_type": "stream",
     "text": [
      "before nils: ['python', 3.14, 2022, [1, 1, 2, 3, 5, 8, 13, 21, 34], ['hello', 'python', 3.14, 2022]]\n",
      "after changing: ['hello pythom', 3.14, 2022, [1, 1, 2, 3, 5, 8, 13, 21, 34], ['hello', 'python', 3.14, 2022]]\n",
      "after changing: ['hello pythom', 1.618, 2022, [1, 1, 2, 3, 5, 8, 13, 21, 34], ['hello', 'python', 3.14, 2022]]\n",
      "after chnanging: ['hello pythom', 1.618, [3.14, 2022], [1, 1, 2, 3, 5, 8, 13, 21, 34], ['hello', 'python', 3.14, 2022]]\n"
     ]
    }
   ],
   "source": [
    "nils = [\"python\",3.14,2022,[1,1,2,3,5,8,13,21,34],[\"hello\",\"python\",3.14,2022]]\n",
    "print(\"before nils:\",nils)\n",
    "nils[0]= \"hello pythom\"\n",
    "print(\"after changing:\",nils)\n",
    "nils[1] = 1.618\n",
    "print(\"after changing:\",nils)\n",
    "nils[2]= [3.14,2022]\n",
    "print(\"after chnanging:\",nils)"
   ]
  },
  {
   "cell_type": "markdown",
   "id": "faa971f6-fcfc-43f6-b1df-6df38c708fc7",
   "metadata": {},
   "source": [
    "Deleting the elements from teh list using del function."
   ]
  },
  {
   "cell_type": "code",
   "execution_count": 17,
   "id": "0e9ac717-4dca-4294-8bfd-b688844cf73e",
   "metadata": {},
   "outputs": [
    {
     "name": "stdout",
     "output_type": "stream",
     "text": [
      "before changing nlss: [1.618, [3.14, 2022], [1, 1, 2, 3, 5, 8, 13, 21, 34], ['hello', 'python', 3.14, 2022]]\n",
      "after chnage: [[3.14, 2022], [1, 1, 2, 3, 5, 8, 13, 21, 34], ['hello', 'python', 3.14, 2022]]\n",
      "after change: [[3.14, 2022], [1, 1, 2, 3, 5, 8, 13, 21, 34]]\n"
     ]
    }
   ],
   "source": [
    "print(\"before changing nlss:\",nils)\n",
    "del(nils[0])\n",
    "print(\"after chnage:\",nils)\n",
    "del(nils[-1])\n",
    "print(\"after change:\",nils)\n"
   ]
  },
  {
   "cell_type": "code",
   "execution_count": 20,
   "id": "91c267ee-7f6f-4cac-98c8-24c0aeb9412f",
   "metadata": {},
   "outputs": [
    {
     "name": "stdout",
     "output_type": "stream",
     "text": [
      "before deleting: ['python', 3.14, 2022, [1, 1, 2, 3, 5, 8, 13, 21, 34], ['hello', 'python', 3.14, 2022]]\n"
     ]
    },
    {
     "ename": "NameError",
     "evalue": "name 'nils' is not defined",
     "output_type": "error",
     "traceback": [
      "\u001b[1;31m---------------------------------------------------------------------------\u001b[0m",
      "\u001b[1;31mNameError\u001b[0m                                 Traceback (most recent call last)",
      "Cell \u001b[1;32mIn[20], line 4\u001b[0m\n\u001b[0;32m      2\u001b[0m \u001b[38;5;28mprint\u001b[39m(\u001b[38;5;124m\"\u001b[39m\u001b[38;5;124mbefore deleting:\u001b[39m\u001b[38;5;124m\"\u001b[39m,nils)\n\u001b[0;32m      3\u001b[0m \u001b[38;5;28;01mdel\u001b[39;00m(nils)\n\u001b[1;32m----> 4\u001b[0m \u001b[38;5;28mprint\u001b[39m(\u001b[38;5;124m\"\u001b[39m\u001b[38;5;124mafter deleting\u001b[39m\u001b[38;5;124m\"\u001b[39m,nils)\n",
      "\u001b[1;31mNameError\u001b[0m: name 'nils' is not defined"
     ]
    }
   ],
   "source": [
    "nils = [\"python\",3.14,2022,[1,1,2,3,5,8,13,21,34],[\"hello\",\"python\",3.14,2022]]\n",
    "print(\"before deleting:\",nils)\n",
    "del(nils)\n",
    "print(\"after deleting\",nils)"
   ]
  },
  {
   "cell_type": "markdown",
   "id": "06c99af8-56ec-4adb-a727-417fc6a1954e",
   "metadata": {},
   "source": [
    "conversion a string into a list using split function.\n"
   ]
  },
  {
   "cell_type": "code",
   "execution_count": 21,
   "id": "3af21889-e7c0-4cd5-ac82-ef443d39c841",
   "metadata": {},
   "outputs": [
    {
     "data": {
      "text/plain": [
       "['python', 'is', 'programing', 'language:']"
      ]
     },
     "execution_count": 21,
     "metadata": {},
     "output_type": "execute_result"
    }
   ],
   "source": [
    "msg = \"python is programing language:\"\n",
    "msg.split()"
   ]
  },
  {
   "cell_type": "markdown",
   "id": "4bfa4406-a81b-4421-9cee-94a7038c6e0e",
   "metadata": {},
   "source": [
    "use of split() function with a diameter"
   ]
  },
  {
   "cell_type": "code",
   "execution_count": 22,
   "id": "a477237d-da1c-430a-81b2-ad6fbb84b19a",
   "metadata": {},
   "outputs": [
    {
     "data": {
      "text/plain": [
       "['p,y,t,h,o,n']"
      ]
     },
     "execution_count": 22,
     "metadata": {},
     "output_type": "execute_result"
    }
   ],
   "source": [
    "text = \"p,y,t,h,o,n \"\n",
    "text.split()"
   ]
  },
  {
   "cell_type": "markdown",
   "id": "ae3a8327-75fe-4e30-84fc-8df1f7211a34",
   "metadata": {},
   "source": [
    "basic operation"
   ]
  },
  {
   "cell_type": "code",
   "execution_count": 28,
   "id": "03084862-f243-44d3-9bbb-ba7bdc481666",
   "metadata": {},
   "outputs": [
    {
     "name": "stdout",
     "output_type": "stream",
     "text": [
      "4\n",
      "5\n",
      "['a', 'b', 'hello', 'python', 1, 2, 3, 4, 5]\n",
      "['a', 'b', 'hello', 'python', 'a', 'b', 'hello', 'python', 'a', 'b', 'hello', 'python']\n",
      "[1, 2, 3, 4, 5, 1, 2, 3, 4, 5, 1, 2, 3, 4, 5]\n",
      "a\n",
      "b\n",
      "hello\n",
      "python\n",
      "1\n",
      "2\n",
      "3\n",
      "4\n",
      "5\n",
      "False\n",
      "True\n"
     ]
    }
   ],
   "source": [
    "nils_1=[\"a\",\"b\",\"hello\",\"python\"]\n",
    "nils_2= [1,2,3,4,5]\n",
    "print(len(nils_1))\n",
    "print(len(nils_2))\n",
    "print(nils_1+nils_2)\n",
    "print(nils_1*3)\n",
    "print(nils_2*3)\n",
    "for i in nils_1:\n",
    "    print(i)\n",
    "for i in nils_2:\n",
    "    print(i)\n",
    "print(4 in nils_1)\n",
    "print(4 in nils_2)"
   ]
  },
  {
   "cell_type": "markdown",
   "id": "4e307fc3-93dc-40f7-9826-9724789650b3",
   "metadata": {},
   "source": [
    "copy the list"
   ]
  },
  {
   "cell_type": "code",
   "execution_count": 1,
   "id": "0b45c9f5-6cd1-4211-85d4-29d45b19199a",
   "metadata": {},
   "outputs": [
    {
     "data": {
      "text/plain": [
       "['python',\n",
       " 3.14,\n",
       " 2022,\n",
       " [1, 1, 2, 3, 5, 8, 13, 21, 34],\n",
       " ['hello', 'python', 3.14, 2022]]"
      ]
     },
     "execution_count": 1,
     "metadata": {},
     "output_type": "execute_result"
    }
   ],
   "source": [
    "nils = [\"python\",3.14,2022,[1,1,2,3,5,8,13,21,34],[\"hello\",\"python\",3.14,2022]]\n",
    "copy_list=nils\n",
    "copy_list"
   ]
  },
  {
   "cell_type": "markdown",
   "id": "e43b768c-06ea-4973-934a-ab095fcbe786",
   "metadata": {},
   "source": [
    "clone list"
   ]
  },
  {
   "cell_type": "code",
   "execution_count": 2,
   "id": "54d9f999-a0d2-40a3-b8e4-9590370d7ce0",
   "metadata": {},
   "outputs": [
    {
     "data": {
      "text/plain": [
       "['python',\n",
       " 3.14,\n",
       " 2022,\n",
       " [1, 1, 2, 3, 5, 8, 13, 21, 34],\n",
       " ['hello', 'python', 3.14, 2022]]"
      ]
     },
     "execution_count": 2,
     "metadata": {},
     "output_type": "execute_result"
    }
   ],
   "source": [
    "nils = [\"python\",3.14,2022,[1,1,2,3,5,8,13,21,34],[\"hello\",\"python\",3.14,2022]]\n",
    "clone_list=nils\n",
    "clone_list"
   ]
  },
  {
   "cell_type": "markdown",
   "id": "dc4364bd-60fd-4451-bbb8-5d4e389da91d",
   "metadata": {},
   "source": [
    "concatenate list"
   ]
  },
  {
   "cell_type": "code",
   "execution_count": 5,
   "id": "36c79479-8032-4280-a158-74dbc3cb3bfb",
   "metadata": {},
   "outputs": [
    {
     "data": {
      "text/plain": [
       "['a', 'b', ['c', 'd'], 'e', 1, 2, 3, 4, 5, [6, 7], True, False]"
      ]
     },
     "execution_count": 5,
     "metadata": {},
     "output_type": "execute_result"
    }
   ],
   "source": [
    "a_list = [\"a\",\"b\",[\"c\",\"d\"],\"e\"]\n",
    "b_list = [1,2,3,4,5,[6,7],True,False]\n",
    "new_list = a_list + b_list\n",
    "new_list"
   ]
  },
  {
   "cell_type": "markdown",
   "id": "48429b3c-4c2b-44ad-b201-db25af139a76",
   "metadata": {},
   "source": [
    "as diffrent from the list i also find a significant the following information \n"
   ]
  },
  {
   "cell_type": "markdown",
   "id": "4ce54cc9-000b-4e4f-8dc0-2a9f4f5bd85c",
   "metadata": {},
   "source": [
    "input() function"
   ]
  },
  {
   "cell_type": "markdown",
   "id": "91d30d32-a9c9-47c8-b802-aa060ba8598b",
   "metadata": {},
   "source": [
    "input function in python provides a user of a program  supply inputs to the program at runtime."
   ]
  },
  {
   "cell_type": "code",
   "execution_count": 8,
   "id": "a85cf4af-0e7d-4b67-97b2-66749c06f0cb",
   "metadata": {},
   "outputs": [
    {
     "name": "stdin",
     "output_type": "stream",
     "text": [
      "Enter the integer hello\n"
     ]
    },
    {
     "name": "stdout",
     "output_type": "stream",
     "text": [
      "the string is : hello\n"
     ]
    },
    {
     "data": {
      "text/plain": [
       "str"
      ]
     },
     "execution_count": 8,
     "metadata": {},
     "output_type": "execute_result"
    }
   ],
   "source": [
    "text = input(str(\"Enter the string\"))\n",
    "print(\"the string is :\",text)\n",
    "type(text)"
   ]
  },
  {
   "cell_type": "code",
   "execution_count": 11,
   "id": "c7236d48-514f-4314-b80b-504504b73ec6",
   "metadata": {},
   "outputs": [
    {
     "name": "stdin",
     "output_type": "stream",
     "text": [
      "enter an number 23\n"
     ]
    },
    {
     "name": "stdout",
     "output_type": "stream",
     "text": [
      "the number is : 23\n"
     ]
    },
    {
     "data": {
      "text/plain": [
       "int"
      ]
     },
     "execution_count": 11,
     "metadata": {},
     "output_type": "execute_result"
    }
   ],
   "source": [
    "number = int(input(\"enter an number\"))\n",
    "print(\"the number is :\",number)\n",
    "type(number)"
   ]
  },
  {
   "cell_type": "code",
   "execution_count": 14,
   "id": "987d2e43-9c6a-4b7b-bf14-7bb5d5ab1ce3",
   "metadata": {},
   "outputs": [
    {
     "name": "stdin",
     "output_type": "stream",
     "text": [
      "enter the number 3.14\n"
     ]
    },
    {
     "name": "stdout",
     "output_type": "stream",
     "text": [
      "number is : 3.14\n"
     ]
    },
    {
     "data": {
      "text/plain": [
       "float"
      ]
     },
     "execution_count": 14,
     "metadata": {},
     "output_type": "execute_result"
    }
   ],
   "source": [
    "number = float(input(\"enter the number\"))\n",
    "print(\"number is :\",number)\n",
    "type(number)"
   ]
  },
  {
   "cell_type": "markdown",
   "id": "f6262fcc-0f96-43cb-a491-3cf1f5b46499",
   "metadata": {},
   "source": [
    "evall()function"
   ]
  },
  {
   "cell_type": "markdown",
   "id": "d090d8a7-8286-4d37-b49e-49d7096c4592",
   "metadata": {},
   "source": [
    "This function services the aim of converting a string to an integer or float."
   ]
  },
  {
   "cell_type": "code",
   "execution_count": 15,
   "id": "273983a8-a13b-4a74-8cd9-0ba7bee99626",
   "metadata": {},
   "outputs": [
    {
     "name": "stdout",
     "output_type": "stream",
     "text": [
      "sum of  the expression : 15\n"
     ]
    },
    {
     "data": {
      "text/plain": [
       "int"
      ]
     },
     "execution_count": 15,
     "metadata": {},
     "output_type": "execute_result"
    }
   ],
   "source": [
    "expression = \"8+7\"\n",
    "total = eval(expression)\n",
    "print(\"sum of  the expression :\",total)\n",
    "type(expression)\n",
    "type(total)"
   ]
  },
  {
   "cell_type": "markdown",
   "id": "46ba6f17-31d6-4eca-8337-5ceb6524821e",
   "metadata": {},
   "source": [
    "format function"
   ]
  },
  {
   "cell_type": "markdown",
   "id": "682ab72b-4514-42c5-92bd-1ff4e6f21d9c",
   "metadata": {},
   "source": [
    "the function helps to format the output printed on the screen with good attractive"
   ]
  },
  {
   "cell_type": "code",
   "execution_count": 16,
   "id": "7030a74e-0852-4c1e-9170-b4bb52708ebd",
   "metadata": {},
   "outputs": [
    {
     "name": "stdin",
     "output_type": "stream",
     "text": [
      "enter the pi number 3.1478\n",
      "enter the golden ratio 25\n"
     ]
    },
    {
     "name": "stdout",
     "output_type": "stream",
     "text": [
      "sum of3.1478 and 25.0 is 28.1478\n"
     ]
    }
   ],
   "source": [
    "a= float(input(\"enter the pi number\"))\n",
    "b= float(input(\"enter the golden ratio\"))\n",
    "total = a+b\n",
    "print(\"sum of{} and {} is {}\".format(a,b,total))"
   ]
  },
  {
   "cell_type": "code",
   "execution_count": 18,
   "id": "a7ea3655-593e-4075-8f43-0dc800841477",
   "metadata": {},
   "outputs": [
    {
     "name": "stdin",
     "output_type": "stream",
     "text": [
      "enter the number 10\n",
      "enter the number 20\n"
     ]
    },
    {
     "name": "stdout",
     "output_type": "stream",
     "text": [
      "i like10and20\n",
      "i like10and20\n",
      "i like20 and10\n"
     ]
    }
   ],
   "source": [
    "a= input(\"enter the number\")\n",
    "b= input(\"enter the number\")\n",
    "print(\"i like{}and{}\".format(a,b))\n",
    "print(\"i like{0}and{1}\".format(a,b))\n",
    "print(\"i like{1} and{0}\".format(a,b))"
   ]
  },
  {
   "cell_type": "markdown",
   "id": "b6c652de-7402-42ce-aa9f-ccaf227bb43c",
   "metadata": {},
   "source": [
    "comparison operater"
   ]
  },
  {
   "cell_type": "markdown",
   "id": "bf474c0e-37b3-4341-b253-670883b6fcba",
   "metadata": {},
   "source": [
    "The operater such as <> <= >= == and != compare the certain two operands and return true pr false.\n"
   ]
  },
  {
   "cell_type": "code",
   "execution_count": 19,
   "id": "d8d8bb85-647a-4761-8ec1-11fb90ec7987",
   "metadata": {},
   "outputs": [
    {
     "name": "stdout",
     "output_type": "stream",
     "text": [
      "a>b True\n",
      "a<b False\n",
      "a<=b False\n",
      "a>=b True\n",
      "a==b False\n",
      "a!=b True\n"
     ]
    }
   ],
   "source": [
    "a= 3.14\n",
    "b= 1.68\n",
    "print(\"a>b\",a>b)\n",
    "print(\"a<b\",a<b)\n",
    "print(\"a<=b\",a<=b)\n",
    "print(\"a>=b\",a>=b)\n",
    "print(\"a==b\",a==b)\n",
    "print(\"a!=b\",a!=b)"
   ]
  },
  {
   "cell_type": "markdown",
   "id": "153a6f5a-a59e-4807-b662-b955caefc887",
   "metadata": {},
   "source": [
    "logical operaters"
   ]
  },
  {
   "cell_type": "markdown",
   "id": "c48b4f29-bbf7-42fb-b50f-62b5a49e4361",
   "metadata": {},
   "source": [
    "the operater is including and or not are utiliized to bring two condition together and asses them the output returns. true or false."
   ]
  },
  {
   "cell_type": "code",
   "execution_count": 20,
   "id": "70276fbb-2b6b-43c3-9952-478fda40d8ca",
   "metadata": {},
   "outputs": [
    {
     "name": "stdout",
     "output_type": "stream",
     "text": [
      "True\n",
      "False\n",
      "True\n",
      "True\n",
      "False\n"
     ]
    }
   ],
   "source": [
    "a= 3.14\n",
    "b= 1.68\n",
    "c= 12\n",
    "d = 3.14\n",
    "print(a>b and c>a)\n",
    "print(b>c and d>a)\n",
    "print(b<c and d<c)\n",
    "print( not a==b)\n",
    "print( not a==d)\n"
   ]
  },
  {
   "cell_type": "markdown",
   "id": "4df37c82-6cdb-4f64-bf7d-7c83b9e16fcf",
   "metadata": {},
   "source": [
    "Assigment operater"
   ]
  },
  {
   "cell_type": "markdown",
   "id": "525091dd-d1a8-4978-9b7f-bb74847902bf",
   "metadata": {},
   "source": [
    "The operater  including  =,+=, -=,/=,%=,//=,*=,&=, |=.^=,>>=, and <<= are employed operaterto evaluate a values to variable "
   ]
  },
  {
   "cell_type": "code",
   "execution_count": 22,
   "id": "b1be1ef9-d9de-4908-a087-0adb9f6e2f45",
   "metadata": {},
   "outputs": [
    {
     "data": {
      "text/plain": [
       "8.14"
      ]
     },
     "execution_count": 22,
     "metadata": {},
     "output_type": "execute_result"
    }
   ],
   "source": [
    "x= 3.14\n",
    "x+=5\n",
    "x"
   ]
  },
  {
   "cell_type": "code",
   "execution_count": 23,
   "id": "70a68382-30c0-4d3d-b94c-49b4e48fac2b",
   "metadata": {},
   "outputs": [
    {
     "data": {
      "text/plain": [
       "-1.8599999999999999"
      ]
     },
     "execution_count": 23,
     "metadata": {},
     "output_type": "execute_result"
    }
   ],
   "source": [
    "x= 3.14\n",
    "x-=5\n",
    "x"
   ]
  },
  {
   "cell_type": "code",
   "execution_count": 24,
   "id": "883e2898-c11f-4e5a-8d9e-9b9982c1cdd0",
   "metadata": {},
   "outputs": [
    {
     "data": {
      "text/plain": [
       "15.700000000000001"
      ]
     },
     "execution_count": 24,
     "metadata": {},
     "output_type": "execute_result"
    }
   ],
   "source": [
    "x=3.14\n",
    "x*=5\n",
    "x"
   ]
  },
  {
   "cell_type": "code",
   "execution_count": 26,
   "id": "d9a6ab34-bfd0-4bc9-ba0a-4b2062020d80",
   "metadata": {},
   "outputs": [
    {
     "data": {
      "text/plain": [
       "0.628"
      ]
     },
     "execution_count": 26,
     "metadata": {},
     "output_type": "execute_result"
    }
   ],
   "source": [
    "x=3.14\n",
    "x/=5\n",
    "x"
   ]
  },
  {
   "cell_type": "code",
   "execution_count": 27,
   "id": "a1ae7ed5-e92b-4731-83f1-b156779942f9",
   "metadata": {},
   "outputs": [
    {
     "data": {
      "text/plain": [
       "3.14"
      ]
     },
     "execution_count": 27,
     "metadata": {},
     "output_type": "execute_result"
    }
   ],
   "source": [
    "x= 3.14\n",
    "x%=5\n",
    "x"
   ]
  },
  {
   "cell_type": "code",
   "execution_count": 28,
   "id": "a94c460f-0925-4757-a163-a3db485a3939",
   "metadata": {},
   "outputs": [
    {
     "data": {
      "text/plain": [
       "0.0"
      ]
     },
     "execution_count": 28,
     "metadata": {},
     "output_type": "execute_result"
    }
   ],
   "source": [
    "x= 3.14\n",
    "x//=5\n",
    "x"
   ]
  },
  {
   "cell_type": "code",
   "execution_count": 29,
   "id": "d5a4d898-3cab-4463-857f-cc0f2a48bd1b",
   "metadata": {},
   "outputs": [
    {
     "data": {
      "text/plain": [
       "305.2447761824001"
      ]
     },
     "execution_count": 29,
     "metadata": {},
     "output_type": "execute_result"
    }
   ],
   "source": [
    "x= 3.14\n",
    "x**=5\n",
    "x"
   ]
  },
  {
   "cell_type": "markdown",
   "id": "da8cb95c-05dc-4cca-ad1d-3de9a5fe542d",
   "metadata": {},
   "source": [
    "identify operaters"
   ]
  },
  {
   "cell_type": "markdown",
   "id": "6b69847d-a97b-4385-bdcd-b6e8286e1d96",
   "metadata": {},
   "source": [
    "The operaters is not are employed to control if the operands to the left and right of these operaters are reffreing to a value stored in the same memmory location and return true fasle.\n"
   ]
  },
  {
   "cell_type": "code",
   "execution_count": 30,
   "id": "3b53b7c9-383a-431b-944c-05d6ece5def2",
   "metadata": {},
   "outputs": [
    {
     "name": "stdout",
     "output_type": "stream",
     "text": [
      "False\n",
      "True\n",
      "False\n",
      "True\n",
      "True\n",
      "False\n",
      "True\n"
     ]
    }
   ],
   "source": [
    "a= 3.14\n",
    "b= 1.68\n",
    "print(a is b )\n",
    "print(a is not b )\n",
    "msg1 = \"hello python  \"\n",
    "msg2 =\"hello world\"\n",
    "print(msg1 is msg2)\n",
    "print(msg1 is not msg2)\n",
    "print(msg1 is not msg2)\n",
    "lis1= [3.14,1.68]\n",
    "lis2= [3.14,1.68]\n",
    "print(lis1 is lis2)\n",
    "print(lis1 is not lis2)"
   ]
  },
  {
   "cell_type": "markdown",
   "id": "2ca1d1bb-0f8e-490d-b933-9827f87812ce",
   "metadata": {},
   "source": [
    "Membership"
   ]
  },
  {
   "cell_type": "markdown",
   "id": "041d60c6-df6c-40a3-87d0-8535e8c9e0a3",
   "metadata": {},
   "source": [
    "These operaters including in and not in are employed to check if the certain valaue is availablel in the sequnce of values and return true false"
   ]
  },
  {
   "cell_type": "code",
   "execution_count": 31,
   "id": "4f660a23-6612-43db-baaf-0900c10676ef",
   "metadata": {},
   "outputs": [
    {
     "name": "stdout",
     "output_type": "stream",
     "text": [
      "False\n",
      "True\n",
      "False\n",
      "True\n"
     ]
    }
   ],
   "source": [
    "nils = [\"python\",3.14,2022,[1,1,2,3,5,8,13,21,34],[\"hello\",\"python\",3.14,2022]]\n",
    "print(5 in nils)\n",
    "print(4 not in nils)\n",
    "print((4,5)in nils)\n",
    "print(9 not in nils)"
   ]
  },
  {
   "cell_type": "code",
   "execution_count": null,
   "id": "b4f77a9d-580b-4e78-b3a8-2e60c4c47cb8",
   "metadata": {},
   "outputs": [],
   "source": []
  }
 ],
 "metadata": {
  "kernelspec": {
   "display_name": "Python 3 (ipykernel)",
   "language": "python",
   "name": "python3"
  },
  "language_info": {
   "codemirror_mode": {
    "name": "ipython",
    "version": 3
   },
   "file_extension": ".py",
   "mimetype": "text/x-python",
   "name": "python",
   "nbconvert_exporter": "python",
   "pygments_lexer": "ipython3",
   "version": "3.11.7"
  }
 },
 "nbformat": 4,
 "nbformat_minor": 5
}
